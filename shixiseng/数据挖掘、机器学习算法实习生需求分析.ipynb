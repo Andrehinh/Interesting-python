{
 "cells": [
  {
   "cell_type": "markdown",
   "metadata": {},
   "source": [
    "## 数据挖掘、机器学习算法实习生需求分析  \n",
    "\n",
    "  \n",
    "  接上篇文章的“实习僧网站”数据爬取，这篇文章主要对“实习僧网站”招聘数据挖掘、机器学习的实习岗位信息进行分析。数据主要来自“数据挖掘”、“机器学习”和“算法”这3个关键词下的数据。爬下来的原始数据还比较脏，本文使用pandas进行数据处理和分析，结合seaborn和pyecharts包进行数据可视化。Python运行版本为3.6.3。\n",
    "\n",
    "### 分析目标\n",
    "1. 由于小E想要找的实习公司是机器学习算法相关的工作，所以只对“数据挖掘”、“机器学习”、“算法”这三个关键字进行了爬取；\n",
    "2. 因此，分析目标就是国内公司对机器学习算法实习生的需求状况（仅基于实习僧网站），以及公司相关的分析。"
   ]
  },
  {
   "cell_type": "code",
   "execution_count": 1,
   "metadata": {},
   "outputs": [],
   "source": [
    "import numpy as np\n",
    "import pandas as pd\n",
    "import matplotlib.pyplot as plt\n",
    "import seaborn as sns\n",
    "import pyecharts\n",
    "plt.style.use('ggplot')\n",
    "%matplotlib inline\n",
    "\n",
    "from pylab import mpl\n",
    "mpl.rcParams['font.sans-serif'] = ['SimHei']  #解决seaborn中文字体显示问题\n",
    "plt.rc('figure', figsize=(10, 10))  #把plt默认的图片size调大一点"
   ]
  },
  {
   "cell_type": "markdown",
   "metadata": {},
   "source": [
    "### 1. 数据导入\n",
    "- 把通过“数据挖掘”、“机器学习”和“算法”这3个关键词爬取到的3个csv文件数据导入为pandas DataFrame，再把他们concat起来\n",
    "- 把ignore_index设置成True让其可以重新索引"
   ]
  },
  {
   "cell_type": "code",
   "execution_count": 2,
   "metadata": {},
   "outputs": [],
   "source": [
    "data_dm = pd.read_csv(\"datamining.csv\")\n",
    "data_ml = pd.read_csv(\"machinelearning.csv\")\n",
    "data_al = pd.read_csv(\"mlalgorithm.csv\")\n",
    "data = pd.concat([data_dm, data_ml, data_al], ignore_index = True)"
   ]
  },
  {
   "cell_type": "markdown",
   "metadata": {},
   "source": [
    "### 2. 数据基本信息和基本处理\n",
    "- 随机抽取3个数据样本看数据是否导入正确\n",
    "- 查看数据基本信息，看数据的行列数、数据类型是否正确、是否有重复数据，以及首先对重复数据进行处理"
   ]
  },
  {
   "cell_type": "code",
   "execution_count": 3,
   "metadata": {
    "scrolled": false
   },
   "outputs": [
    {
     "data": {
      "text/html": [
       "<div>\n",
       "<style scoped>\n",
       "    .dataframe tbody tr th:only-of-type {\n",
       "        vertical-align: middle;\n",
       "    }\n",
       "\n",
       "    .dataframe tbody tr th {\n",
       "        vertical-align: top;\n",
       "    }\n",
       "\n",
       "    .dataframe thead th {\n",
       "        text-align: right;\n",
       "    }\n",
       "</style>\n",
       "<table border=\"1\" class=\"dataframe\">\n",
       "  <thead>\n",
       "    <tr style=\"text-align: right;\">\n",
       "      <th></th>\n",
       "      <th>auth_capital</th>\n",
       "      <th>city</th>\n",
       "      <th>com_class</th>\n",
       "      <th>com_fullname</th>\n",
       "      <th>com_id</th>\n",
       "      <th>com_intro</th>\n",
       "      <th>com_links</th>\n",
       "      <th>com_location</th>\n",
       "      <th>com_logo</th>\n",
       "      <th>com_name</th>\n",
       "      <th>...</th>\n",
       "      <th>job_deadline</th>\n",
       "      <th>job_detail</th>\n",
       "      <th>job_links</th>\n",
       "      <th>job_title</th>\n",
       "      <th>num_employee</th>\n",
       "      <th>released_time</th>\n",
       "      <th>tag</th>\n",
       "      <th>time_span</th>\n",
       "      <th>update_time</th>\n",
       "      <th>wage</th>\n",
       "    </tr>\n",
       "  </thead>\n",
       "  <tbody>\n",
       "    <tr>\n",
       "      <th>29</th>\n",
       "      <td>注册资本：1594.3879万人民币</td>\n",
       "      <td>上海</td>\n",
       "      <td>公司类型：有限责任公司</td>\n",
       "      <td>华院数据技术（上海）有限公司</td>\n",
       "      <td>组织机构代码：73814805-2</td>\n",
       "      <td>中国最早从事大数据分析挖掘的企业，致力于打造大数据产业生态圈</td>\n",
       "      <td>https://www.shixiseng.com/com/com_qebqujwjzwqb</td>\n",
       "      <td>上海</td>\n",
       "      <td>https://sxsimg.xiaoyuanzhao.com/A6/2F/A6E5AC0C...</td>\n",
       "      <td>华院数据</td>\n",
       "      <td>...</td>\n",
       "      <td>2018-04-03</td>\n",
       "      <td>['工作职责：', '1. 研究、设计和验证基于大数据的数据挖掘解决方案', '2. 结合实...</td>\n",
       "      <td>https://www.shixiseng.com/intern/inn_wee2wpagrgzl</td>\n",
       "      <td>计算机研究员</td>\n",
       "      <td>2000人以上</td>\n",
       "      <td>18小时前</td>\n",
       "      <td>数据挖掘</td>\n",
       "      <td>6个月</td>\n",
       "      <td>2018-03-20 16:50:46</td>\n",
       "      <td>150-200/天</td>\n",
       "    </tr>\n",
       "    <tr>\n",
       "      <th>506</th>\n",
       "      <td>注册资本：500万元人民币</td>\n",
       "      <td>深圳</td>\n",
       "      <td>公司类型：有限责任公司（自然人独资）</td>\n",
       "      <td>深圳中科龙智数字技术有限公司</td>\n",
       "      <td>注册号：440301106872394</td>\n",
       "      <td>以智能产品与技术解决方案为核心业务的高新技术企业</td>\n",
       "      <td>https://www.shixiseng.com/com/com_juogmswikjc1</td>\n",
       "      <td>深圳市南山区硅谷大学城创业园A座1410</td>\n",
       "      <td>https://sxsimg.xiaoyuanzhao.com/95/85/95B6CF24...</td>\n",
       "      <td>中科龙智</td>\n",
       "      <td>...</td>\n",
       "      <td>2018-12-31</td>\n",
       "      <td>['2.负责算法的研发，改进，优化，和移植，保证算法的快速性和稳定性；']</td>\n",
       "      <td>https://www.shixiseng.com/intern/inn_1yar0kkul8pi</td>\n",
       "      <td>虚拟现实VR算法工程师（实习）</td>\n",
       "      <td>15-50人</td>\n",
       "      <td>28小时前</td>\n",
       "      <td>软件</td>\n",
       "      <td>13个月</td>\n",
       "      <td>2018-03-21 11:19:48</td>\n",
       "      <td>100-200/天</td>\n",
       "    </tr>\n",
       "    <tr>\n",
       "      <th>240</th>\n",
       "      <td>NaN</td>\n",
       "      <td>广州</td>\n",
       "      <td></td>\n",
       "      <td>广州日报数据和数字化研究院</td>\n",
       "      <td>NaN</td>\n",
       "      <td>GDI以数据挖掘、分析以及数字新闻传播和新型智库构建为主要业务</td>\n",
       "      <td>https://www.shixiseng.com/com/com_tmzfw7kqfece</td>\n",
       "      <td>广州大学城</td>\n",
       "      <td>https://sxsimg.xiaoyuanzhao.com/0C/52/0C69C292...</td>\n",
       "      <td>数据研究院</td>\n",
       "      <td>...</td>\n",
       "      <td>2018-03-30</td>\n",
       "      <td>['6、有较强抗压能力，适应高强度工作。', '4、对数据进行统计分析、图表制作及撰写分析报...</td>\n",
       "      <td>https://www.shixiseng.com/intern/inn_2l0vrgwz4col</td>\n",
       "      <td>数据分析师</td>\n",
       "      <td>15-50人</td>\n",
       "      <td>2月前</td>\n",
       "      <td>数据挖掘</td>\n",
       "      <td>3个月</td>\n",
       "      <td>2017-12-28 15:28:09</td>\n",
       "      <td>50-70/天</td>\n",
       "    </tr>\n",
       "  </tbody>\n",
       "</table>\n",
       "<p>3 rows × 27 columns</p>\n",
       "</div>"
      ],
      "text/plain": [
       "           auth_capital city           com_class    com_fullname  \\\n",
       "29   注册资本：1594.3879万人民币   上海         公司类型：有限责任公司  华院数据技术（上海）有限公司   \n",
       "506       注册资本：500万元人民币   深圳  公司类型：有限责任公司（自然人独资）  深圳中科龙智数字技术有限公司   \n",
       "240                 NaN   广州                       广州日报数据和数字化研究院   \n",
       "\n",
       "                  com_id                        com_intro  \\\n",
       "29     组织机构代码：73814805-2   中国最早从事大数据分析挖掘的企业，致力于打造大数据产业生态圈   \n",
       "506  注册号：440301106872394         以智能产品与技术解决方案为核心业务的高新技术企业   \n",
       "240                  NaN  GDI以数据挖掘、分析以及数字新闻传播和新型智库构建为主要业务   \n",
       "\n",
       "                                          com_links          com_location  \\\n",
       "29   https://www.shixiseng.com/com/com_qebqujwjzwqb                    上海   \n",
       "506  https://www.shixiseng.com/com/com_juogmswikjc1  深圳市南山区硅谷大学城创业园A座1410   \n",
       "240  https://www.shixiseng.com/com/com_tmzfw7kqfece                 广州大学城   \n",
       "\n",
       "                                              com_logo com_name    ...      \\\n",
       "29   https://sxsimg.xiaoyuanzhao.com/A6/2F/A6E5AC0C...     华院数据    ...       \n",
       "506  https://sxsimg.xiaoyuanzhao.com/95/85/95B6CF24...     中科龙智    ...       \n",
       "240  https://sxsimg.xiaoyuanzhao.com/0C/52/0C69C292...    数据研究院    ...       \n",
       "\n",
       "    job_deadline                                         job_detail  \\\n",
       "29    2018-04-03  ['工作职责：', '1. 研究、设计和验证基于大数据的数据挖掘解决方案', '2. 结合实...   \n",
       "506   2018-12-31              ['2.负责算法的研发，改进，优化，和移植，保证算法的快速性和稳定性；']   \n",
       "240   2018-03-30  ['6、有较强抗压能力，适应高强度工作。', '4、对数据进行统计分析、图表制作及撰写分析报...   \n",
       "\n",
       "                                             job_links        job_title  \\\n",
       "29   https://www.shixiseng.com/intern/inn_wee2wpagrgzl           计算机研究员   \n",
       "506  https://www.shixiseng.com/intern/inn_1yar0kkul8pi  虚拟现实VR算法工程师（实习）   \n",
       "240  https://www.shixiseng.com/intern/inn_2l0vrgwz4col            数据分析师   \n",
       "\n",
       "    num_employee released_time   tag time_span          update_time       wage  \n",
       "29       2000人以上         18小时前  数据挖掘       6个月  2018-03-20 16:50:46  150-200/天  \n",
       "506       15-50人         28小时前    软件      13个月  2018-03-21 11:19:48  100-200/天  \n",
       "240       15-50人           2月前  数据挖掘       3个月  2017-12-28 15:28:09    50-70/天  \n",
       "\n",
       "[3 rows x 27 columns]"
      ]
     },
     "execution_count": 3,
     "metadata": {},
     "output_type": "execute_result"
    }
   ],
   "source": [
    "data.sample(3)"
   ]
  },
  {
   "cell_type": "markdown",
   "metadata": {},
   "source": [
    "随机抽取一个数据，看看这个数据样本所有特征的数据类型"
   ]
  },
  {
   "cell_type": "code",
   "execution_count": 4,
   "metadata": {},
   "outputs": [
    {
     "data": {
      "text/plain": [
       "auth_capital                                      注册资本：130.2083万人民币\n",
       "city                                                             上海\n",
       "com_class                                 公司类型：股份有限公司(台港澳与境内合资、未上市)\n",
       "com_fullname                                         纵目科技（上海）股份有限公司\n",
       "com_id                                            组织机构代码：06087276-7\n",
       "com_intro                               成为立足中国面向世界的从辅助驾驶到自动驾驶的技术引领者\n",
       "com_links            https://www.shixiseng.com/com/com_k0gejst3xf8x\n",
       "com_location                                北京市昌平区回龙观东大街腾讯总创空间B座535\n",
       "com_logo          https://sxsimg.xiaoyuanzhao.com/7B/C2/7B75BE25...\n",
       "com_name                                                       纵目科技\n",
       "com_website                               http://www.zongmutech.com\n",
       "com_welfare       ['发展潜力大', '活跃的工作环境', '团队体验', '棒棒的', '开放创新', '追...\n",
       "day_per_week                                                   4天/周\n",
       "detailed_intro    \\n纵目科技成立于2013年1月，总部位于上海浦东张江高科技园区，在北京及深圳分别设有研发分...\n",
       "est_date                                            成立日期：2013-01-10\n",
       "industry                                                       汽车电子\n",
       "job_academic                                                     硕士\n",
       "job_deadline                                             2018-04-30\n",
       "job_detail                                                      NaN\n",
       "job_links         https://www.shixiseng.com/intern/inn_44wj24z3ra6h\n",
       "job_title                                                   视觉算法工程师\n",
       "num_employee                                               150-500人\n",
       "released_time                                                   3天前\n",
       "tag                                                              算法\n",
       "time_span                                                       3个月\n",
       "update_time                                     2018-03-19 13:04:08\n",
       "wage                                                      200-400/天\n",
       "Name: 666, dtype: object"
      ]
     },
     "execution_count": 4,
     "metadata": {},
     "output_type": "execute_result"
    }
   ],
   "source": [
    "data.loc[666]"
   ]
  },
  {
   "cell_type": "markdown",
   "metadata": {},
   "source": [
    "获取数据的基本信息，发现：\n",
    "1. 一共有978条记录，27列\n",
    "2. 某些列比如说“com_id”、“detailed_intro”、“est_date”等，具有些许缺失值\n",
    "3. 所有数据都被导入成了object类型"
   ]
  },
  {
   "cell_type": "code",
   "execution_count": 5,
   "metadata": {},
   "outputs": [
    {
     "name": "stdout",
     "output_type": "stream",
     "text": [
      "<class 'pandas.core.frame.DataFrame'>\n",
      "RangeIndex: 978 entries, 0 to 977\n",
      "Data columns (total 27 columns):\n",
      "auth_capital      906 non-null object\n",
      "city              974 non-null object\n",
      "com_class         954 non-null object\n",
      "com_fullname      974 non-null object\n",
      "com_id            906 non-null object\n",
      "com_intro         974 non-null object\n",
      "com_links         978 non-null object\n",
      "com_location      978 non-null object\n",
      "com_logo          974 non-null object\n",
      "com_name          974 non-null object\n",
      "com_website       865 non-null object\n",
      "com_welfare       978 non-null object\n",
      "day_per_week      978 non-null object\n",
      "detailed_intro    912 non-null object\n",
      "est_date          906 non-null object\n",
      "industry          960 non-null object\n",
      "job_academic      978 non-null object\n",
      "job_deadline      978 non-null object\n",
      "job_detail        681 non-null object\n",
      "job_links         978 non-null object\n",
      "job_title         978 non-null object\n",
      "num_employee      972 non-null object\n",
      "released_time     978 non-null object\n",
      "tag               978 non-null object\n",
      "time_span         978 non-null object\n",
      "update_time       978 non-null object\n",
      "wage              978 non-null object\n",
      "dtypes: object(27)\n",
      "memory usage: 206.4+ KB\n"
     ]
    }
   ],
   "source": [
    "data.info()"
   ]
  },
  {
   "cell_type": "markdown",
   "metadata": {},
   "source": [
    "- 由于数据是通过3个关键词搜索爬取的，难免会有一个职位对应多个关键词的情况，所以难免会有重复数据  \n",
    "- 这些重复数据对于我们的分析没有帮助，先drop掉，再看剩余数据情况\n",
    "- 由于“job_links”字段（工作详情链接）对数据可以起唯一标识作用，所以可以基于该字段去重\n",
    "- 发现数据剩余878行（说明刚好有100条重复数据）"
   ]
  },
  {
   "cell_type": "code",
   "execution_count": 6,
   "metadata": {
    "scrolled": false
   },
   "outputs": [
    {
     "data": {
      "text/plain": [
       "(878, 27)"
      ]
     },
     "execution_count": 6,
     "metadata": {},
     "output_type": "execute_result"
    }
   ],
   "source": [
    "data.drop_duplicates(subset='job_links', inplace=True)\n",
    "data.shape"
   ]
  },
  {
   "cell_type": "markdown",
   "metadata": {},
   "source": [
    "### 3. 数据处理\n",
    "由上可见：\n",
    "- com_fullname、com_name、job_academic、job_links、tag不需要处理\n",
    "- “auth_capital”（注册资本）、“day_per_week”（每周工作天数）、“num_employee”（公司规模）、“time_span”（实习月数）、“wage”（每天工资）等字段，都可以处理成数值型数据\n",
    "- “est_date”（公司成立日期）、“job_deadline”（截止时间）、“released_time”（发布时间）、“update_time”（更新时间）等字段，可以处理成datetime类型数据\n",
    "- “city”（城市）、“com_class”（公司类型）、“com_intro（公司简介）”、“job_title”（职位名称）等字段可以进一步处理\n",
    "- 类似于“com_logo”（公司logo）、“industry”（行业）等字段，可以视情况处理\n",
    "- com_id、com_links、com_location、com_website、com_welfare、detailed_intro、job_detail在本次分析中用不上，不处理"
   ]
  },
  {
   "cell_type": "markdown",
   "metadata": {},
   "source": [
    "#### 3.1 新建data_clean数据框\n",
    "- 新建data_clean数据框，数据处理在data_clean上进行\n",
    "- data_clean用以保存处理好的数据，原数据data用以保存原始数据记录\n",
    "- 把本次分析中用不上的字段先drop掉"
   ]
  },
  {
   "cell_type": "code",
   "execution_count": 7,
   "metadata": {},
   "outputs": [],
   "source": [
    "data_clean = data.drop(['com_id', 'com_links', 'com_location', 'com_website', \n",
    "                 'com_welfare', 'detailed_intro', 'job_detail'], axis = 1)"
   ]
  },
  {
   "cell_type": "markdown",
   "metadata": {},
   "source": [
    "#### 3.2 数值型数据处理\n",
    "包括“auth_capital”（注册资本）、“day_per_week”（每周工作天数）、“num_employee”（公司规模）、“time_span”（实习月数）、“wage”（每天工资）等字段  \n",
    "\n",
    "##### 3.2.1 “auth_capital”（注册资本）\n",
    "- 随机抽取“auth_capital”，发现该字段的格式基本为：“注册资本：（数字）万|万元（币种）”，有少许的格式为：“注册资本：（币种）（数字）万|万元”， 或者“注册资本：无”，或者该字段为缺失值\n",
    "- 币种有人民币、美元、欧元、港元（港币）等\n",
    "- 这里的处理思路是先把“注册资本：”清理掉，再把数值型数据提取出来，然后根据各币种的汇率，把注册资本转换为“万元人民币”单位"
   ]
  },
  {
   "cell_type": "code",
   "execution_count": 8,
   "metadata": {},
   "outputs": [
    {
     "data": {
      "text/plain": [
       "621           注册资本：(美元)200万元\n",
       "475            注册资本：4000万人民币\n",
       "433            注册资本：1200万香港元\n",
       "39                注册资本：250万元\n",
       "502    注册资本：6166.7208 万元 人民币\n",
       "744      注册资本：304.757300万人民币\n",
       "612             注册资本：5000 万元\n",
       "236          注册资本：4520 万元 美元\n",
       "557           注册资本：1161万元人民币\n",
       "739             注册资本：3000 万元\n",
       "628            注册资本：9449万元美元\n",
       "188          注册资本：(美元)1000万元\n",
       "83             注册资本：4000万人民币\n",
       "958             注册资本：300万人民币\n",
       "125            注册资本：5000万人民币\n",
       "817           注册资本：1500万元人民币\n",
       "474             注册资本：100万人民币\n",
       "820        注册资本：2023.06万元人民币\n",
       "920       注册资本：319.7247万元人民币\n",
       "205                      NaN\n",
       "Name: auth_capital, dtype: object"
      ]
     },
     "execution_count": 8,
     "metadata": {},
     "output_type": "execute_result"
    }
   ],
   "source": [
    "data.auth_capital.sample(20)"
   ]
  },
  {
   "cell_type": "markdown",
   "metadata": {},
   "source": [
    "- 先以“：”分割字符串，便可把“注册资本：”清理掉，保留数值和币种"
   ]
  },
  {
   "cell_type": "code",
   "execution_count": 9,
   "metadata": {},
   "outputs": [
    {
     "data": {
      "text/html": [
       "<div>\n",
       "<style scoped>\n",
       "    .dataframe tbody tr th:only-of-type {\n",
       "        vertical-align: middle;\n",
       "    }\n",
       "\n",
       "    .dataframe tbody tr th {\n",
       "        vertical-align: top;\n",
       "    }\n",
       "\n",
       "    .dataframe thead th {\n",
       "        text-align: right;\n",
       "    }\n",
       "</style>\n",
       "<table border=\"1\" class=\"dataframe\">\n",
       "  <thead>\n",
       "    <tr style=\"text-align: right;\">\n",
       "      <th></th>\n",
       "      <th>0</th>\n",
       "      <th>1</th>\n",
       "    </tr>\n",
       "  </thead>\n",
       "  <tbody>\n",
       "    <tr>\n",
       "      <th>959</th>\n",
       "      <td>注册资本</td>\n",
       "      <td>1000万元</td>\n",
       "    </tr>\n",
       "    <tr>\n",
       "      <th>479</th>\n",
       "      <td>注册资本</td>\n",
       "      <td>15000万元美元</td>\n",
       "    </tr>\n",
       "    <tr>\n",
       "      <th>921</th>\n",
       "      <td>注册资本</td>\n",
       "      <td>100万美元</td>\n",
       "    </tr>\n",
       "    <tr>\n",
       "      <th>151</th>\n",
       "      <td>注册资本</td>\n",
       "      <td>217128万元人民币</td>\n",
       "    </tr>\n",
       "    <tr>\n",
       "      <th>307</th>\n",
       "      <td>注册资本</td>\n",
       "      <td>1万元人民币</td>\n",
       "    </tr>\n",
       "  </tbody>\n",
       "</table>\n",
       "</div>"
      ],
      "text/plain": [
       "        0            1\n",
       "959  注册资本       1000万元\n",
       "479  注册资本    15000万元美元\n",
       "921  注册资本       100万美元\n",
       "151  注册资本  217128万元人民币\n",
       "307  注册资本       1万元人民币"
      ]
     },
     "execution_count": 9,
     "metadata": {},
     "output_type": "execute_result"
    }
   ],
   "source": [
    "auth_capital = data['auth_capital'].str.split('：', expand = True)\n",
    "auth_capital.sample(5)"
   ]
  },
  {
   "cell_type": "markdown",
   "metadata": {},
   "source": [
    "- 接着把数字提取出来， 转换为float型"
   ]
  },
  {
   "cell_type": "code",
   "execution_count": 10,
   "metadata": {},
   "outputs": [
    {
     "data": {
      "text/html": [
       "<div>\n",
       "<style scoped>\n",
       "    .dataframe tbody tr th:only-of-type {\n",
       "        vertical-align: middle;\n",
       "    }\n",
       "\n",
       "    .dataframe tbody tr th {\n",
       "        vertical-align: top;\n",
       "    }\n",
       "\n",
       "    .dataframe thead th {\n",
       "        text-align: right;\n",
       "    }\n",
       "</style>\n",
       "<table border=\"1\" class=\"dataframe\">\n",
       "  <thead>\n",
       "    <tr style=\"text-align: right;\">\n",
       "      <th></th>\n",
       "      <th>0</th>\n",
       "      <th>1</th>\n",
       "      <th>num</th>\n",
       "    </tr>\n",
       "  </thead>\n",
       "  <tbody>\n",
       "    <tr>\n",
       "      <th>108</th>\n",
       "      <td>注册资本</td>\n",
       "      <td>100万人民币</td>\n",
       "      <td>100.0000</td>\n",
       "    </tr>\n",
       "    <tr>\n",
       "      <th>703</th>\n",
       "      <td>注册资本</td>\n",
       "      <td>4000万元人民币</td>\n",
       "      <td>4000.0000</td>\n",
       "    </tr>\n",
       "    <tr>\n",
       "      <th>359</th>\n",
       "      <td>注册资本</td>\n",
       "      <td>36409.6355 万元 人民币</td>\n",
       "      <td>36409.6355</td>\n",
       "    </tr>\n",
       "    <tr>\n",
       "      <th>464</th>\n",
       "      <td>注册资本</td>\n",
       "      <td>22.3464万元人民币</td>\n",
       "      <td>22.3464</td>\n",
       "    </tr>\n",
       "    <tr>\n",
       "      <th>587</th>\n",
       "      <td>注册资本</td>\n",
       "      <td>5400万人民币</td>\n",
       "      <td>5400.0000</td>\n",
       "    </tr>\n",
       "  </tbody>\n",
       "</table>\n",
       "</div>"
      ],
      "text/plain": [
       "        0                  1         num\n",
       "108  注册资本            100万人民币    100.0000\n",
       "703  注册资本          4000万元人民币   4000.0000\n",
       "359  注册资本  36409.6355 万元 人民币  36409.6355\n",
       "464  注册资本       22.3464万元人民币     22.3464\n",
       "587  注册资本           5400万人民币   5400.0000"
      ]
     },
     "execution_count": 10,
     "metadata": {},
     "output_type": "execute_result"
    }
   ],
   "source": [
    "auth_capital['num'] = auth_capital[1].str.extract('([0-9.]+)', expand=False).astype('float')\n",
    "auth_capital.sample(5)"
   ]
  },
  {
   "cell_type": "markdown",
   "metadata": {},
   "source": [
    "- 币种的描述比较乱，比如同是人民币，描述有“万人民币”、“万元人民币”、“万人民币元”、“万元 人民币”等\n",
    "- 先看看币种的描述都有哪些（以“万”字分割字符串，便可把数值和币种分开来）"
   ]
  },
  {
   "cell_type": "code",
   "execution_count": 11,
   "metadata": {
    "scrolled": true
   },
   "outputs": [
    {
     "data": {
      "text/plain": [
       "array(['美元', '人民币', '元美元', None, '元人民币', '人民币元', '元', '元 人民币', '', '元 美元',\n",
       "       '元港元（港币）', '港币', '香港元', '欧元', '元 港元（港币）'], dtype=object)"
      ]
     },
     "execution_count": 11,
     "metadata": {},
     "output_type": "execute_result"
    }
   ],
   "source": [
    "auth_capital[1].str.split('万', expand = True)[1].unique()"
   ]
  },
  {
   "cell_type": "markdown",
   "metadata": {},
   "source": [
    "- 币种的描述有多种， 我们可以根据不同币种，在数值上乘以相应的汇率，转换为“万元人民币”单位\n",
    "- 为了过程更好理解，可以先新建一个“ex_rate”（汇率）列，保存对应的汇率，由于数据量不大，这里用pd.Series.apply(function)（当然也可以使用pd.DataFrame.apply(function)一步到位）\n",
    "- 港币、美元、欧元兑人民币的汇率分别为 0.80、6.29、7.73"
   ]
  },
  {
   "cell_type": "code",
   "execution_count": 12,
   "metadata": {
    "scrolled": true
   },
   "outputs": [
    {
     "data": {
      "text/html": [
       "<div>\n",
       "<style scoped>\n",
       "    .dataframe tbody tr th:only-of-type {\n",
       "        vertical-align: middle;\n",
       "    }\n",
       "\n",
       "    .dataframe tbody tr th {\n",
       "        vertical-align: top;\n",
       "    }\n",
       "\n",
       "    .dataframe thead th {\n",
       "        text-align: right;\n",
       "    }\n",
       "</style>\n",
       "<table border=\"1\" class=\"dataframe\">\n",
       "  <thead>\n",
       "    <tr style=\"text-align: right;\">\n",
       "      <th></th>\n",
       "      <th>0</th>\n",
       "      <th>1</th>\n",
       "      <th>num</th>\n",
       "      <th>ex_rate</th>\n",
       "    </tr>\n",
       "  </thead>\n",
       "  <tbody>\n",
       "    <tr>\n",
       "      <th>316</th>\n",
       "      <td>注册资本</td>\n",
       "      <td>3000万元人民币</td>\n",
       "      <td>3000.0</td>\n",
       "      <td>1.00</td>\n",
       "    </tr>\n",
       "    <tr>\n",
       "      <th>475</th>\n",
       "      <td>注册资本</td>\n",
       "      <td>4000万人民币</td>\n",
       "      <td>4000.0</td>\n",
       "      <td>1.00</td>\n",
       "    </tr>\n",
       "    <tr>\n",
       "      <th>396</th>\n",
       "      <td>注册资本</td>\n",
       "      <td>1000万美元</td>\n",
       "      <td>1000.0</td>\n",
       "      <td>6.29</td>\n",
       "    </tr>\n",
       "    <tr>\n",
       "      <th>771</th>\n",
       "      <td>注册资本</td>\n",
       "      <td>4000 万元 美元</td>\n",
       "      <td>4000.0</td>\n",
       "      <td>6.29</td>\n",
       "    </tr>\n",
       "    <tr>\n",
       "      <th>694</th>\n",
       "      <td>注册资本</td>\n",
       "      <td>203000 万元</td>\n",
       "      <td>203000.0</td>\n",
       "      <td>1.00</td>\n",
       "    </tr>\n",
       "  </tbody>\n",
       "</table>\n",
       "</div>"
      ],
      "text/plain": [
       "        0           1       num  ex_rate\n",
       "316  注册资本   3000万元人民币    3000.0     1.00\n",
       "475  注册资本    4000万人民币    4000.0     1.00\n",
       "396  注册资本     1000万美元    1000.0     6.29\n",
       "771  注册资本  4000 万元 美元    4000.0     6.29\n",
       "694  注册资本   203000 万元  203000.0     1.00"
      ]
     },
     "execution_count": 12,
     "metadata": {},
     "output_type": "execute_result"
    }
   ],
   "source": [
    "def get_ex_rate(string):\n",
    "    if string == None:\n",
    "        return np.nan\n",
    "    if '人民币' in string:\n",
    "        return 1.00\n",
    "    elif '港' in string:\n",
    "        return 0.80\n",
    "    elif '美元' in string:\n",
    "        return 6.29\n",
    "    elif '欧元' in string:\n",
    "        return 7.73\n",
    "    elif '万' in string:\n",
    "        return 1.00\n",
    "    else:\n",
    "        return np.nan\n",
    "    \n",
    "auth_capital['ex_rate'] = auth_capital[1].apply(get_ex_rate)\n",
    "auth_capital.sample(5)"
   ]
  },
  {
   "cell_type": "markdown",
   "metadata": {},
   "source": [
    "- 由'num'和'ex_rate'相乘便是转换为“万元人民币”的注册资本字段\n",
    "- 把干净的数据保存进data_clean中，方便之后分析"
   ]
  },
  {
   "cell_type": "code",
   "execution_count": 13,
   "metadata": {},
   "outputs": [
    {
     "data": {
      "text/plain": [
       "0    235875.0000\n",
       "1     27570.9972\n",
       "2       314.5000\n",
       "3     28430.8000\n",
       "4     28430.8000\n",
       "Name: auth_capital, dtype: float64"
      ]
     },
     "execution_count": 13,
     "metadata": {},
     "output_type": "execute_result"
    }
   ],
   "source": [
    "data_clean['auth_capital'] = auth_capital['num'] * auth_capital['ex_rate']\n",
    "data_clean['auth_capital'].head()"
   ]
  },
  {
   "cell_type": "markdown",
   "metadata": {},
   "source": [
    "##### 3.2.2 “day_per_week”（每周工作天数）\n",
    "由下可见：\n",
    "- “day_per_week”字段没有缺失值，并且取值在“2-6天/周”之间\n",
    "- 可以采用直接赋值的方法处理该字段"
   ]
  },
  {
   "cell_type": "code",
   "execution_count": 14,
   "metadata": {},
   "outputs": [
    {
     "data": {
      "text/plain": [
       "array(['4天/周', '5天/周', '3天/周', '2天/周', '6天/周'], dtype=object)"
      ]
     },
     "execution_count": 14,
     "metadata": {},
     "output_type": "execute_result"
    }
   ],
   "source": [
    "data.day_per_week.unique()"
   ]
  },
  {
   "cell_type": "code",
   "execution_count": 15,
   "metadata": {},
   "outputs": [],
   "source": [
    "data_clean.loc[data['day_per_week'] == '2天/周', 'day_per_week'] = 2\n",
    "data_clean.loc[data['day_per_week'] == '3天/周', 'day_per_week'] = 3\n",
    "data_clean.loc[data['day_per_week'] == '4天/周', 'day_per_week'] = 4\n",
    "data_clean.loc[data['day_per_week'] == '5天/周', 'day_per_week'] = 5\n",
    "data_clean.loc[data['day_per_week'] == '6天/周', 'day_per_week'] = 6"
   ]
  },
  {
   "cell_type": "markdown",
   "metadata": {},
   "source": [
    "##### 3.2.3 “num_employee”（公司规模）\n",
    "- 同样，由于“num_employee”字段取值在['2000人以上', '500-2000人', nan, '50-150人', '15-50人', '150-500人', '少于15人', '5000人以上']，可以采用跟“day_per_week”字段一样的处理方法\n",
    "- '少于15人'、'15-50人'、'50-150人'都记为'小型企业','150-500人'、'500-2000人'记为'中型企业'，'2000人以上'、'5000人以上'记为大型企业"
   ]
  },
  {
   "cell_type": "code",
   "execution_count": 16,
   "metadata": {},
   "outputs": [
    {
     "data": {
      "text/plain": [
       "array(['2000人以上', '500-2000人', nan, '50-150人', '15-50人', '150-500人',\n",
       "       '少于15人', '5000人以上'], dtype=object)"
      ]
     },
     "execution_count": 16,
     "metadata": {},
     "output_type": "execute_result"
    }
   ],
   "source": [
    "data.num_employee.unique()"
   ]
  },
  {
   "cell_type": "code",
   "execution_count": 17,
   "metadata": {},
   "outputs": [],
   "source": [
    "data_clean.loc[data['num_employee'] == '少于15人', 'num_employee'] = '小型企业'\n",
    "data_clean.loc[data['num_employee'] == '15-50人', 'num_employee'] = '小型企业'\n",
    "data_clean.loc[data['num_employee'] == '50-150人', 'num_employee'] = '小型企业'\n",
    "data_clean.loc[data['num_employee'] == '150-500人', 'num_employee'] = '中型企业'\n",
    "data_clean.loc[data['num_employee'] == '500-2000人', 'num_employee'] = '中型企业'\n",
    "data_clean.loc[data['num_employee'] == '2000人以上', 'num_employee'] = '大型企业'\n",
    "data_clean.loc[data['num_employee'] == '5000人以上', 'num_employee'] = '大型企业'\n",
    "data_clean.loc[data['num_employee'].isna(), 'num_employee'] = np.nan"
   ]
  },
  {
   "cell_type": "markdown",
   "metadata": {},
   "source": [
    "##### 3.2.4 “time_span”（实习月数）\n",
    "由下可知：\n",
    "- “time_span”字段没有缺失值，由“1-18个月”组成\n",
    "- 当然，你也可以通过跟上面一样的处理方式来处理，但是，这种方式对于取值多的字段来说，第一比较繁琐，第二，其实这个赋值方式本身的运行速度很慢\n",
    "- 可以考虑构造一个字典，通过pd.Series.map() 也就是映射的方式来做，方便快捷"
   ]
  },
  {
   "cell_type": "code",
   "execution_count": 18,
   "metadata": {},
   "outputs": [
    {
     "data": {
      "text/plain": [
       "array(['3个月', '4个月', '6个月', '7个月', '5个月', '9个月', '8个月', '10个月', '12个月',\n",
       "       '13个月', '18个月', '14个月', '16个月', '11个月', '15个月', '2个月', '17个月', '1个月'], dtype=object)"
      ]
     },
     "execution_count": 18,
     "metadata": {},
     "output_type": "execute_result"
    }
   ],
   "source": [
    "data.time_span.unique()"
   ]
  },
  {
   "cell_type": "code",
   "execution_count": 19,
   "metadata": {},
   "outputs": [
    {
     "name": "stdout",
     "output_type": "stream",
     "text": [
      "{'1个月': 1, '2个月': 2, '3个月': 3, '4个月': 4, '5个月': 5, '6个月': 6, '7个月': 7, '8个月': 8, '9个月': 9, '10个月': 10, '11个月': 11, '12个月': 12, '13个月': 13, '14个月': 14, '15个月': 15, '16个月': 16, '17个月': 17, '18个月': 18}\n"
     ]
    }
   ],
   "source": [
    "mapping = {}\n",
    "for i in range(1,19):\n",
    "    mapping[str(i) + '个月'] = i\n",
    "print(mapping)"
   ]
  },
  {
   "cell_type": "code",
   "execution_count": 20,
   "metadata": {},
   "outputs": [
    {
     "data": {
      "text/html": [
       "<div>\n",
       "<style scoped>\n",
       "    .dataframe tbody tr th:only-of-type {\n",
       "        vertical-align: middle;\n",
       "    }\n",
       "\n",
       "    .dataframe tbody tr th {\n",
       "        vertical-align: top;\n",
       "    }\n",
       "\n",
       "    .dataframe thead th {\n",
       "        text-align: right;\n",
       "    }\n",
       "</style>\n",
       "<table border=\"1\" class=\"dataframe\">\n",
       "  <thead>\n",
       "    <tr style=\"text-align: right;\">\n",
       "      <th></th>\n",
       "      <th>auth_capital</th>\n",
       "      <th>city</th>\n",
       "      <th>com_class</th>\n",
       "      <th>com_fullname</th>\n",
       "      <th>com_intro</th>\n",
       "      <th>com_logo</th>\n",
       "      <th>com_name</th>\n",
       "      <th>day_per_week</th>\n",
       "      <th>est_date</th>\n",
       "      <th>industry</th>\n",
       "      <th>job_academic</th>\n",
       "      <th>job_deadline</th>\n",
       "      <th>job_links</th>\n",
       "      <th>job_title</th>\n",
       "      <th>num_employee</th>\n",
       "      <th>released_time</th>\n",
       "      <th>tag</th>\n",
       "      <th>time_span</th>\n",
       "      <th>update_time</th>\n",
       "      <th>wage</th>\n",
       "    </tr>\n",
       "  </thead>\n",
       "  <tbody>\n",
       "    <tr>\n",
       "      <th>0</th>\n",
       "      <td>235875.0000</td>\n",
       "      <td>北京</td>\n",
       "      <td>公司类型：有限责任公司(台港澳法人独资)</td>\n",
       "      <td>淘宝（中国）软件有限公司</td>\n",
       "      <td>淘宝网是亚太地区较大的网络零售、商圈</td>\n",
       "      <td>https://sxsimg.xiaoyuanzhao.com/FB/BC/FBDB6AC6...</td>\n",
       "      <td>淘宝</td>\n",
       "      <td>4</td>\n",
       "      <td>成立日期：2004-12-07</td>\n",
       "      <td>计算机/互联网</td>\n",
       "      <td>硕士</td>\n",
       "      <td>2018-04-13</td>\n",
       "      <td>https://www.shixiseng.com/intern/inn_g2vpcs8lukcr</td>\n",
       "      <td>【淘宝】算法工程师/算法专家</td>\n",
       "      <td>大型企业</td>\n",
       "      <td>7分钟前</td>\n",
       "      <td>数据挖掘</td>\n",
       "      <td>3</td>\n",
       "      <td>2018-03-21 10:48:06</td>\n",
       "      <td>200-201/天</td>\n",
       "    </tr>\n",
       "    <tr>\n",
       "      <th>1</th>\n",
       "      <td>27570.9972</td>\n",
       "      <td>上海</td>\n",
       "      <td>公司类型：股份有限公司(上市)</td>\n",
       "      <td>游族网络股份有限公司</td>\n",
       "      <td>全球领先的互动娱乐供应商</td>\n",
       "      <td>https://sxsimg.xiaoyuanzhao.com/BD/6D/BD305709...</td>\n",
       "      <td>游族网络</td>\n",
       "      <td>5</td>\n",
       "      <td>成立日期：1995-09-22</td>\n",
       "      <td>计算机/互联网</td>\n",
       "      <td>本科</td>\n",
       "      <td>2020-12-31</td>\n",
       "      <td>https://www.shixiseng.com/intern/inn_46watgzrvqsg</td>\n",
       "      <td>大数据挖掘工程师 （2018校园）</td>\n",
       "      <td>中型企业</td>\n",
       "      <td>18分钟前</td>\n",
       "      <td>软件</td>\n",
       "      <td>4</td>\n",
       "      <td>2018-03-21 10:37:22</td>\n",
       "      <td>160-280/天</td>\n",
       "    </tr>\n",
       "    <tr>\n",
       "      <th>2</th>\n",
       "      <td>314.5000</td>\n",
       "      <td>广州</td>\n",
       "      <td>公司类型：有限责任公司(台港澳法人独资)</td>\n",
       "      <td>广州网易互动娱乐有限公司</td>\n",
       "      <td>国内中国领先的互联网技术公司，游戏行业领导者。</td>\n",
       "      <td>https://sxsimg.xiaoyuanzhao.com/company_logo/2...</td>\n",
       "      <td>网易游戏</td>\n",
       "      <td>4</td>\n",
       "      <td>成立日期：2002-10-15</td>\n",
       "      <td>互联网</td>\n",
       "      <td>本科</td>\n",
       "      <td>2018-03-31</td>\n",
       "      <td>https://www.shixiseng.com/intern/inn_wnfrd8o7wly2</td>\n",
       "      <td>数据挖掘研究实习生（AI方向）</td>\n",
       "      <td>大型企业</td>\n",
       "      <td>32分钟前</td>\n",
       "      <td>数据挖掘</td>\n",
       "      <td>4</td>\n",
       "      <td>2018-03-21 10:23:45</td>\n",
       "      <td>130-150/天</td>\n",
       "    </tr>\n",
       "  </tbody>\n",
       "</table>\n",
       "</div>"
      ],
      "text/plain": [
       "   auth_capital city             com_class  com_fullname  \\\n",
       "0   235875.0000   北京  公司类型：有限责任公司(台港澳法人独资)  淘宝（中国）软件有限公司   \n",
       "1    27570.9972   上海       公司类型：股份有限公司(上市)    游族网络股份有限公司   \n",
       "2      314.5000   广州  公司类型：有限责任公司(台港澳法人独资)  广州网易互动娱乐有限公司   \n",
       "\n",
       "                 com_intro                                           com_logo  \\\n",
       "0       淘宝网是亚太地区较大的网络零售、商圈  https://sxsimg.xiaoyuanzhao.com/FB/BC/FBDB6AC6...   \n",
       "1             全球领先的互动娱乐供应商  https://sxsimg.xiaoyuanzhao.com/BD/6D/BD305709...   \n",
       "2  国内中国领先的互联网技术公司，游戏行业领导者。  https://sxsimg.xiaoyuanzhao.com/company_logo/2...   \n",
       "\n",
       "  com_name  day_per_week         est_date industry job_academic job_deadline  \\\n",
       "0       淘宝             4  成立日期：2004-12-07  计算机/互联网           硕士   2018-04-13   \n",
       "1     游族网络             5  成立日期：1995-09-22  计算机/互联网           本科   2020-12-31   \n",
       "2     网易游戏             4  成立日期：2002-10-15      互联网           本科   2018-03-31   \n",
       "\n",
       "                                           job_links          job_title  \\\n",
       "0  https://www.shixiseng.com/intern/inn_g2vpcs8lukcr     【淘宝】算法工程师/算法专家   \n",
       "1  https://www.shixiseng.com/intern/inn_46watgzrvqsg  大数据挖掘工程师 （2018校园）   \n",
       "2  https://www.shixiseng.com/intern/inn_wnfrd8o7wly2    数据挖掘研究实习生（AI方向）   \n",
       "\n",
       "  num_employee released_time   tag  time_span          update_time       wage  \n",
       "0         大型企业          7分钟前  数据挖掘          3  2018-03-21 10:48:06  200-201/天  \n",
       "1         中型企业         18分钟前    软件          4  2018-03-21 10:37:22  160-280/天  \n",
       "2         大型企业         32分钟前  数据挖掘          4  2018-03-21 10:23:45  130-150/天  "
      ]
     },
     "execution_count": 20,
     "metadata": {},
     "output_type": "execute_result"
    }
   ],
   "source": [
    "data_clean['time_span'] = data['time_span'].map(mapping)\n",
    "data_clean.head(3)"
   ]
  },
  {
   "cell_type": "markdown",
   "metadata": {},
   "source": [
    "##### 3.2.5 “wage”（每天工资）\n",
    "- 通过观察可知，该字段没有缺失值，并且格式全都为：xxx-xxx/天\n",
    "- 可以取一个最低工资，一个最高工资，再求一个平均工资\n",
    "- 这里，可以用之前的pd.Series.apply(function)来做，即定义一个函数提取每条记录中的工资最小和最大值\n",
    "- 不过，更加简便的方法肯定是正则提取啊"
   ]
  },
  {
   "cell_type": "code",
   "execution_count": 21,
   "metadata": {},
   "outputs": [
    {
     "data": {
      "text/plain": [
       "838    500-800/天\n",
       "444    200-250/天\n",
       "645    200-400/天\n",
       "622    100-200/天\n",
       "886    230-350/天\n",
       "Name: wage, dtype: object"
      ]
     },
     "execution_count": 21,
     "metadata": {},
     "output_type": "execute_result"
    }
   ],
   "source": [
    "data['wage'].sample(5)"
   ]
  },
  {
   "cell_type": "markdown",
   "metadata": {},
   "source": [
    "这一步我估计需要解释一下：\n",
    "- 首先使用正则'([0-9.]+)-([0-9.]+)/天'提取出两列数字（也就是最低和最高工资），设置expand=True返回一个数据框\n",
    "- 由于返回回来的是字符串格式，需要把它们转换为整型（int），所以使用astype('int')\n",
    "- 最后，对每行记录求平均，返回一个Series赋值给data_clean['average_wage']"
   ]
  },
  {
   "cell_type": "code",
   "execution_count": 22,
   "metadata": {},
   "outputs": [
    {
     "data": {
      "text/plain": [
       "0    200.5\n",
       "1    220.0\n",
       "2    140.0\n",
       "3    175.0\n",
       "4    175.0\n",
       "Name: average_wage, dtype: float64"
      ]
     },
     "execution_count": 22,
     "metadata": {},
     "output_type": "execute_result"
    }
   ],
   "source": [
    "data_clean['average_wage'] = data['wage'].str.extract('([0-9.]+)-([0-9.]+)/天', expand=True).astype('int').mean(axis = 1)\n",
    "data_clean['average_wage'].head()"
   ]
  },
  {
   "cell_type": "markdown",
   "metadata": {},
   "source": [
    "#### 3.3 时间数据处理\n",
    "包括“est_date”（公司成立日期）、“job_deadline”（截止时间）、“released_time”（发布时间）、“update_time”（更新时间）等字段  \n",
    "\n",
    "##### 3.3.1 “est_date”（公司成立日期）\n",
    "- 随机抽取发现“est_date”这个字段的格式为：成立日期：xxxx-xx-xx\n",
    "- 因此，直接正则提取，然后把它转换为datetime格式就可以了"
   ]
  },
  {
   "cell_type": "code",
   "execution_count": 23,
   "metadata": {},
   "outputs": [
    {
     "data": {
      "text/plain": [
       "92     成立日期：2007-08-17\n",
       "559    成立日期：2015-08-17\n",
       "765    成立日期：2012-07-10\n",
       "267    成立日期：2016-02-22\n",
       "957    成立日期：2015-05-28\n",
       "Name: est_date, dtype: object"
      ]
     },
     "execution_count": 23,
     "metadata": {},
     "output_type": "execute_result"
    }
   ],
   "source": [
    "data['est_date'].sample(5)"
   ]
  },
  {
   "cell_type": "code",
   "execution_count": 24,
   "metadata": {},
   "outputs": [
    {
     "data": {
      "text/plain": [
       "491   2017-09-26\n",
       "534   2016-07-25\n",
       "710   2016-06-02\n",
       "378   2016-11-01\n",
       "563   2017-03-16\n",
       "Name: est_date, dtype: datetime64[ns]"
      ]
     },
     "execution_count": 24,
     "metadata": {},
     "output_type": "execute_result"
    }
   ],
   "source": [
    "data_clean['est_date'] = pd.to_datetime(data['est_date'].str.extract('成立日期：([0-9-]+)', expand=False))\n",
    "data_clean['est_date'].sample(5)"
   ]
  },
  {
   "cell_type": "markdown",
   "metadata": {},
   "source": [
    "##### 3.3.2 “job_deadline”（截止时间）\n",
    "- 这个字段很干净，直接类型转换便可"
   ]
  },
  {
   "cell_type": "code",
   "execution_count": 25,
   "metadata": {},
   "outputs": [
    {
     "data": {
      "text/plain": [
       "864    2018-04-05\n",
       "241    2018-05-31\n",
       "304    2018-12-31\n",
       "188    2018-04-30\n",
       "425    2018-03-31\n",
       "Name: job_deadline, dtype: object"
      ]
     },
     "execution_count": 25,
     "metadata": {},
     "output_type": "execute_result"
    }
   ],
   "source": [
    "data['job_deadline'].sample(5)"
   ]
  },
  {
   "cell_type": "code",
   "execution_count": 26,
   "metadata": {},
   "outputs": [],
   "source": [
    "data_clean['job_deadline'] = pd.to_datetime(data['job_deadline'])"
   ]
  },
  {
   "cell_type": "markdown",
   "metadata": {},
   "source": [
    "##### 3.3.3 “released_time”（发布时间）\n",
    "- 观察数据发现，该字段1小时内的都以分钟表示、1小时-2天内的都以小时表示、2天-1周内的都以天表示，1周-1个月内的都以周表示，1个月以上的以月表示\n",
    "- 可以考虑清洗成：2天以内是最新的（newest），2天-1周是新的（new），1周-1个月是可以投简历的（acceptable），1个月以上的是旧的（old）\n",
    "- 这个的处理方法很多，我的方法是先把每条记录中的分钟、小时、天、周、月提取出来，再定义一个映射map一下就可以了"
   ]
  },
  {
   "cell_type": "code",
   "execution_count": 27,
   "metadata": {},
   "outputs": [
    {
     "data": {
      "text/plain": [
       "764      1周前\n",
       "55     21小时前\n",
       "595      2天前\n",
       "439    23小时前\n",
       "745      7天前\n",
       "Name: released_time, dtype: object"
      ]
     },
     "execution_count": 27,
     "metadata": {},
     "output_type": "execute_result"
    }
   ],
   "source": [
    "data['released_time'].sample(5)"
   ]
  },
  {
   "cell_type": "code",
   "execution_count": 28,
   "metadata": {},
   "outputs": [
    {
     "data": {
      "text/plain": [
       "305       new\n",
       "83     newest\n",
       "301       new\n",
       "443    newest\n",
       "351    newest\n",
       "Name: released_time, dtype: object"
      ]
     },
     "execution_count": 28,
     "metadata": {},
     "output_type": "execute_result"
    }
   ],
   "source": [
    "data_clean['released_time'] = data['released_time'].str.extract('[0-9-]+(\\w+)前', expand=False).map(\n",
    "    {'分钟':'newest', '小时':'newest', '天':'new', '周':'acceptable', '月':'old'})\n",
    "data_clean['released_time'].sample(5)"
   ]
  },
  {
   "cell_type": "markdown",
   "metadata": {},
   "source": [
    "##### 3.3.4 “update_time”（更新时间）\n",
    "- 更新时间字段格式很工整，直接转换类型便可"
   ]
  },
  {
   "cell_type": "code",
   "execution_count": 29,
   "metadata": {},
   "outputs": [
    {
     "data": {
      "text/plain": [
       "587    2018-03-20 14:28:14\n",
       "122    2018-03-18 10:56:26\n",
       "775    2018-03-14 09:24:40\n",
       "268    2018-03-20 12:53:21\n",
       "852    2018-03-08 13:30:08\n",
       "Name: update_time, dtype: object"
      ]
     },
     "execution_count": 29,
     "metadata": {},
     "output_type": "execute_result"
    }
   ],
   "source": [
    "data['update_time'].sample(5)"
   ]
  },
  {
   "cell_type": "code",
   "execution_count": 30,
   "metadata": {},
   "outputs": [],
   "source": [
    "data_clean['update_time'] = pd.to_datetime(data['update_time'])"
   ]
  },
  {
   "cell_type": "markdown",
   "metadata": {},
   "source": [
    "#### 3.4 字符型数据处理\n",
    "包括“city”（城市）、“com_class”（公司类型）、“com_intro（公司简介）”、“job_title”（职位名称）等字段\n",
    "\n",
    "##### 3.4.1 “city”（城市）处理\n",
    "- 乍一看这个字段还挺整洁的，取唯一值看一下发现有些城市还是需要稍微处理一下\n",
    "- 比如说成都有“成都市”和“成都”，珠海有“珠海市”和“珠海”等\n",
    "- 直接赋值处理"
   ]
  },
  {
   "cell_type": "code",
   "execution_count": 31,
   "metadata": {},
   "outputs": [
    {
     "data": {
      "text/plain": [
       "array(['北京', '上海', '广州', nan, '南京', '深圳', '宁波', '杭州', '西安', '成都', '合肥',\n",
       "       '珠海市', '其他', '重庆', '武汉', '无锡', '天津', '珠海 深圳', '长沙', '厦门', '珠海',\n",
       "       '济南', '香港', '苏州', '上海漕河泾开发区', '晋江', '东莞', '成都市', '大连', '福州', '沈阳'], dtype=object)"
      ]
     },
     "execution_count": 31,
     "metadata": {},
     "output_type": "execute_result"
    }
   ],
   "source": [
    "data['city'].unique()"
   ]
  },
  {
   "cell_type": "code",
   "execution_count": 32,
   "metadata": {},
   "outputs": [],
   "source": [
    "data_clean.loc[data_clean['city'] == '成都市', 'city'] = '成都'\n",
    "data_clean.loc[data_clean['city'].isin(['珠海市', '珠海 深圳', '珠海']), 'city'] = '珠海'\n",
    "data_clean.loc[data_clean['city'] == '上海漕河泾开发区', 'city'] = '上海'"
   ]
  },
  {
   "cell_type": "markdown",
   "metadata": {},
   "source": [
    "- 忍不住好奇心，先看一下招聘“机器学习算法”实习生前10的城市\n",
    "- 发现北京遥遥领先、接着是上海、杭州、深圳、广州"
   ]
  },
  {
   "cell_type": "code",
   "execution_count": 33,
   "metadata": {},
   "outputs": [
    {
     "data": {
      "text/plain": [
       "<matplotlib.axes._subplots.AxesSubplot at 0x10ace4d30>"
      ]
     },
     "execution_count": 33,
     "metadata": {},
     "output_type": "execute_result"
    },
    {
     "data": {
      "image/png": "[encoded data removed]",
      "text/plain": [
       "<matplotlib.figure.Figure at 0x10ac96828>"
      ]
     },
     "metadata": {},
     "output_type": "display_data"
    }
   ],
   "source": [
    "data_clean['city'].value_counts().nlargest(10).plot(kind = 'bar')"
   ]
  },
  {
   "cell_type": "markdown",
   "metadata": {},
   "source": [
    "#### 3.4.2 “com_class”（公司和企业类型）处理\n",
    "- 类型有很多，可以按照组织形式可以分为独资企业、合伙企业、公司制企业，公司制企业又分为有限责任公司和股份有限公司等等\n",
    "- 这里主要把它分为‘股份有限公司（未上市）’、‘股份有限公司（上市）’、‘有限责任公司’、‘外商投资公司’、‘有限合伙企业’、‘国有企业’这6种\n",
    "- 处理方法跟上面币种的处理方法一致"
   ]
  },
  {
   "cell_type": "markdown",
   "metadata": {},
   "source": [
    "- 首先看看都有哪些公司（或企业）类型"
   ]
  },
  {
   "cell_type": "code",
   "execution_count": 34,
   "metadata": {},
   "outputs": [
    {
     "data": {
      "text/plain": [
       "['公司类型：有限责任公司(台港澳法人独资)',\n",
       " '公司类型：股份有限公司(上市)',\n",
       " '公司类型：有限责任公司(外国法人独资)',\n",
       " nan,\n",
       " '公司类型：有限责任公司',\n",
       " '公司类型：有限责任公司（法人独资）',\n",
       " '公司类型：其他有限责任公司',\n",
       " ' ',\n",
       " '公司类型：其他股份有限公司(非上市)',\n",
       " '公司类型：有限责任公司(中外合资)',\n",
       " '公司类型：有限责任公司(自然人投资或控股)',\n",
       " '公司类型：有限责任公司(自然人独资)',\n",
       " '公司类型：有限责任公司（自然人投资或控股）',\n",
       " '公司类型：有限责任公司(法人独资)',\n",
       " '公司类型：有限责任公司分公司（自然人独资）',\n",
       " '公司类型：股份有限公司(中外合资、上市)',\n",
       " '公司类型：有限责任公司（台港澳法人独资）',\n",
       " '公司类型：有限责任公司\\n',\n",
       " '公司类型：有限责任公司（自然人独资）',\n",
       " '公司类型：有限责任公司（自然人投资或控股的法人独资）',\n",
       " '公司类型：股份有限公司(非上市、自然人投资或控股)',\n",
       " '公司类型：有限责任公司(台港澳与境内合资)',\n",
       " '公司类型：无',\n",
       " '公司类型：股份有限公司分公司(上市、国有控股)',\n",
       " '公司类型：私营有限责任公司(自然人控股或私营性质企业控股)',\n",
       " '公司类型：全民所有制',\n",
       " '公司类型：有限责任公司（外国法人独资）',\n",
       " '公司类型：股份有限公司(非上市)',\n",
       " '公司类型：股份有限公司(上市、自然人投资或控股)',\n",
       " '公司类型：股份有限公司(台港澳与境内合资、上市)',\n",
       " '公司类型：其他股份有限公司(上市)',\n",
       " '公司类型：有限责任公司分公司（非自然人投资或控股的法人独资）',\n",
       " '公司类型：其他股份有限公司（上市）',\n",
       " '公司类型：有限责任公司（非自然人投资或控股的法人独资）',\n",
       " '公司类型：股份有限公司',\n",
       " '公司类型：非上市股份有限公司',\n",
       " '公司类型：分公司',\n",
       " '公司类型：股份有限公司（上市、自然人投资或控股）',\n",
       " '公司类型：有限合伙',\n",
       " '公司类型：外商投资公司分公司',\n",
       " '公司类型：有限责任公司(台港澳与外国投资者合资)',\n",
       " '公司类型：股份有限公司（非上市）',\n",
       " '公司类型：有限责任公司(外商投资企业法人独资)',\n",
       " '公司类型：上市股份有限公司',\n",
       " '公司类型：股份有限公司(台港澳与境内合资、未上市)',\n",
       " '公司类型：股份有限公司（非上市、自然人投资或控股）',\n",
       " '公司类型：股份有限公司（台港澳与境内合资、未上市）',\n",
       " '公司类型：股份有限公司(中外合资、未上市)']"
      ]
     },
     "execution_count": 34,
     "metadata": {},
     "output_type": "execute_result"
    }
   ],
   "source": [
    "list(data['com_class'].unique())"
   ]
  },
  {
   "cell_type": "markdown",
   "metadata": {},
   "source": [
    "- 定义一个函数处理这些类型，利用pd.Series.apply(function)方法\n",
    "- 把处理好的数据保存到data_clean中"
   ]
  },
  {
   "cell_type": "code",
   "execution_count": 35,
   "metadata": {},
   "outputs": [],
   "source": [
    "def get_com_type(string):\n",
    "    if string == None:\n",
    "        return np.nan\n",
    "    elif ('非上市' in string) or ('未上市' in string):\n",
    "        return '股份有限公司（未上市）'\n",
    "    elif '股份' in string:\n",
    "        return '股份有限公司（上市）'\n",
    "    elif '责任' in string:\n",
    "        return '有限责任公司'\n",
    "    elif '外商投资' in string:\n",
    "        return '外商投资公司'\n",
    "    elif '有限合伙' in string:\n",
    "        return '有限合伙企业'\n",
    "    elif '全民所有' in string:\n",
    "        return '国有企业'\n",
    "    else:\n",
    "        return np.nan"
   ]
  },
  {
   "cell_type": "code",
   "execution_count": 36,
   "metadata": {},
   "outputs": [
    {
     "data": {
      "text/html": [
       "<div>\n",
       "<style scoped>\n",
       "    .dataframe tbody tr th:only-of-type {\n",
       "        vertical-align: middle;\n",
       "    }\n",
       "\n",
       "    .dataframe tbody tr th {\n",
       "        vertical-align: top;\n",
       "    }\n",
       "\n",
       "    .dataframe thead th {\n",
       "        text-align: right;\n",
       "    }\n",
       "</style>\n",
       "<table border=\"1\" class=\"dataframe\">\n",
       "  <thead>\n",
       "    <tr style=\"text-align: right;\">\n",
       "      <th></th>\n",
       "      <th>0</th>\n",
       "      <th>1</th>\n",
       "      <th>com_class</th>\n",
       "    </tr>\n",
       "  </thead>\n",
       "  <tbody>\n",
       "    <tr>\n",
       "      <th>658</th>\n",
       "      <td>公司类型</td>\n",
       "      <td>有限责任公司(自然人投资或控股)</td>\n",
       "      <td>有限责任公司</td>\n",
       "    </tr>\n",
       "    <tr>\n",
       "      <th>115</th>\n",
       "      <td>公司类型</td>\n",
       "      <td>有限责任公司(外国法人独资)</td>\n",
       "      <td>有限责任公司</td>\n",
       "    </tr>\n",
       "    <tr>\n",
       "      <th>458</th>\n",
       "      <td>公司类型</td>\n",
       "      <td>有限责任公司（自然人投资或控股）</td>\n",
       "      <td>有限责任公司</td>\n",
       "    </tr>\n",
       "    <tr>\n",
       "      <th>962</th>\n",
       "      <td>公司类型</td>\n",
       "      <td>有限责任公司(自然人投资或控股)</td>\n",
       "      <td>有限责任公司</td>\n",
       "    </tr>\n",
       "    <tr>\n",
       "      <th>325</th>\n",
       "      <td>公司类型</td>\n",
       "      <td>有限责任公司(法人独资)</td>\n",
       "      <td>有限责任公司</td>\n",
       "    </tr>\n",
       "  </tbody>\n",
       "</table>\n",
       "</div>"
      ],
      "text/plain": [
       "        0                 1 com_class\n",
       "658  公司类型  有限责任公司(自然人投资或控股)    有限责任公司\n",
       "115  公司类型    有限责任公司(外国法人独资)    有限责任公司\n",
       "458  公司类型  有限责任公司（自然人投资或控股）    有限责任公司\n",
       "962  公司类型  有限责任公司(自然人投资或控股)    有限责任公司\n",
       "325  公司类型      有限责任公司(法人独资)    有限责任公司"
      ]
     },
     "execution_count": 36,
     "metadata": {},
     "output_type": "execute_result"
    }
   ],
   "source": [
    "com_class = data['com_class'].str.split('：', expand = True)\n",
    "com_class['com_class'] = com_class[1].apply(get_com_type)\n",
    "com_class.sample(5)"
   ]
  },
  {
   "cell_type": "code",
   "execution_count": 37,
   "metadata": {},
   "outputs": [],
   "source": [
    "data_clean['com_class'] = com_class['com_class']"
   ]
  },
  {
   "cell_type": "markdown",
   "metadata": {},
   "source": [
    "- “com_intro”（公司简介）、“job_title”（职位名称）两个字段暂时不处理"
   ]
  },
  {
   "cell_type": "markdown",
   "metadata": {},
   "source": [
    "#### 3.5 “com_logo”（公司logo）、“industry”（行业）也暂时不处理\n",
    "- 更改一下每列的顺序\n",
    "- 再把data_clean保存到本地"
   ]
  },
  {
   "cell_type": "code",
   "execution_count": 38,
   "metadata": {},
   "outputs": [],
   "source": [
    "data_clean = data_clean.reindex(columns=['com_fullname', 'com_name', 'job_academic', 'job_links', \n",
    "                                         'tag','auth_capital', 'day_per_week', 'num_employee', 'time_span',\n",
    "                                         'average_wage', 'est_date', 'job_deadline', 'released_time',\n",
    "                                         'update_time', 'city', 'com_class', 'com_intro', 'job_title',\n",
    "                                         'com_logo', 'industry'])\n",
    "data_clean.to_csv('/Users/apple/Desktop/shixiseng/data_clean.csv', index = False)"
   ]
  },
  {
   "cell_type": "markdown",
   "metadata": {},
   "source": [
    "### 4. 数据分析\n",
    "终于可以进入数据分析的阶段。可以利用以上的城市、薪资、学历、行业、公司等相关字段，分析出目前国内公司对机器学习算法实习生的需求状况（仅基于实习僧网站），以及公司的相关情况\n",
    "\n",
    "- 首先，看看清洗完的数据的基本情况"
   ]
  },
  {
   "cell_type": "markdown",
   "metadata": {},
   "source": [
    "#### 4.1 数据基本情况"
   ]
  },
  {
   "cell_type": "code",
   "execution_count": 39,
   "metadata": {},
   "outputs": [
    {
     "data": {
      "text/html": [
       "<div>\n",
       "<style scoped>\n",
       "    .dataframe tbody tr th:only-of-type {\n",
       "        vertical-align: middle;\n",
       "    }\n",
       "\n",
       "    .dataframe tbody tr th {\n",
       "        vertical-align: top;\n",
       "    }\n",
       "\n",
       "    .dataframe thead th {\n",
       "        text-align: right;\n",
       "    }\n",
       "</style>\n",
       "<table border=\"1\" class=\"dataframe\">\n",
       "  <thead>\n",
       "    <tr style=\"text-align: right;\">\n",
       "      <th></th>\n",
       "      <th>com_fullname</th>\n",
       "      <th>com_name</th>\n",
       "      <th>job_academic</th>\n",
       "      <th>job_links</th>\n",
       "      <th>tag</th>\n",
       "      <th>auth_capital</th>\n",
       "      <th>day_per_week</th>\n",
       "      <th>num_employee</th>\n",
       "      <th>time_span</th>\n",
       "      <th>average_wage</th>\n",
       "      <th>est_date</th>\n",
       "      <th>job_deadline</th>\n",
       "      <th>released_time</th>\n",
       "      <th>update_time</th>\n",
       "      <th>city</th>\n",
       "      <th>com_class</th>\n",
       "      <th>com_intro</th>\n",
       "      <th>job_title</th>\n",
       "      <th>com_logo</th>\n",
       "      <th>industry</th>\n",
       "    </tr>\n",
       "  </thead>\n",
       "  <tbody>\n",
       "    <tr>\n",
       "      <th>656</th>\n",
       "      <td>深圳码隆科技有限公司</td>\n",
       "      <td>码隆科技</td>\n",
       "      <td>本科</td>\n",
       "      <td>https://www.shixiseng.com/intern/inn_thlsquqyifps</td>\n",
       "      <td>软件</td>\n",
       "      <td>153.0858</td>\n",
       "      <td>5</td>\n",
       "      <td>中型企业</td>\n",
       "      <td>4</td>\n",
       "      <td>300.0</td>\n",
       "      <td>2014-07-16</td>\n",
       "      <td>2018-06-30</td>\n",
       "      <td>new</td>\n",
       "      <td>2018-03-19 14:03:34</td>\n",
       "      <td>深圳</td>\n",
       "      <td>有限责任公司</td>\n",
       "      <td>一家专注于深度学习与计算机视觉技术创新的人工智能公司</td>\n",
       "      <td>深度学习算法实习生</td>\n",
       "      <td>https://sxsimg.xiaoyuanzhao.com/F5/33/F5E7B0CF...</td>\n",
       "      <td>计算机/互联网</td>\n",
       "    </tr>\n",
       "    <tr>\n",
       "      <th>394</th>\n",
       "      <td>北京融联世纪信息技术有限公司</td>\n",
       "      <td>融360</td>\n",
       "      <td>本科</td>\n",
       "      <td>https://www.shixiseng.com/intern/inn_fpm2hqfvovgb</td>\n",
       "      <td>算法</td>\n",
       "      <td>62900.0000</td>\n",
       "      <td>4</td>\n",
       "      <td>中型企业</td>\n",
       "      <td>3</td>\n",
       "      <td>335.0</td>\n",
       "      <td>2012-06-25</td>\n",
       "      <td>2018-04-17</td>\n",
       "      <td>newest</td>\n",
       "      <td>2018-03-22 10:16:40</td>\n",
       "      <td>北京</td>\n",
       "      <td>有限责任公司</td>\n",
       "      <td>互联网金融垂直搜索平台</td>\n",
       "      <td>数据算法助理</td>\n",
       "      <td>https://sxsimg.xiaoyuanzhao.com/CC/12/CCDFD256...</td>\n",
       "      <td>互联网,金融/保险</td>\n",
       "    </tr>\n",
       "    <tr>\n",
       "      <th>958</th>\n",
       "      <td>上海珞鹏航空科技有限公司</td>\n",
       "      <td>珞鹏航空</td>\n",
       "      <td>硕士</td>\n",
       "      <td>https://www.shixiseng.com/intern/inn_g0zppaybef1u</td>\n",
       "      <td>软件</td>\n",
       "      <td>300.0000</td>\n",
       "      <td>5</td>\n",
       "      <td>小型企业</td>\n",
       "      <td>8</td>\n",
       "      <td>150.0</td>\n",
       "      <td>2016-09-21</td>\n",
       "      <td>2018-06-30</td>\n",
       "      <td>old</td>\n",
       "      <td>2017-12-15 09:53:56</td>\n",
       "      <td>上海</td>\n",
       "      <td>有限责任公司</td>\n",
       "      <td>全球领先的涵道式无人机研发企业</td>\n",
       "      <td>无人机导航算法工程师</td>\n",
       "      <td>https://sxsimg.xiaoyuanzhao.com/76/3F/76726149...</td>\n",
       "      <td>航天/航空</td>\n",
       "    </tr>\n",
       "  </tbody>\n",
       "</table>\n",
       "</div>"
      ],
      "text/plain": [
       "       com_fullname com_name job_academic  \\\n",
       "656      深圳码隆科技有限公司     码隆科技           本科   \n",
       "394  北京融联世纪信息技术有限公司     融360           本科   \n",
       "958    上海珞鹏航空科技有限公司     珞鹏航空           硕士   \n",
       "\n",
       "                                             job_links tag  auth_capital  \\\n",
       "656  https://www.shixiseng.com/intern/inn_thlsquqyifps  软件      153.0858   \n",
       "394  https://www.shixiseng.com/intern/inn_fpm2hqfvovgb  算法    62900.0000   \n",
       "958  https://www.shixiseng.com/intern/inn_g0zppaybef1u  软件      300.0000   \n",
       "\n",
       "     day_per_week num_employee  time_span  average_wage   est_date  \\\n",
       "656             5         中型企业          4         300.0 2014-07-16   \n",
       "394             4         中型企业          3         335.0 2012-06-25   \n",
       "958             5         小型企业          8         150.0 2016-09-21   \n",
       "\n",
       "    job_deadline released_time         update_time city com_class  \\\n",
       "656   2018-06-30           new 2018-03-19 14:03:34   深圳    有限责任公司   \n",
       "394   2018-04-17        newest 2018-03-22 10:16:40   北京    有限责任公司   \n",
       "958   2018-06-30           old 2017-12-15 09:53:56   上海    有限责任公司   \n",
       "\n",
       "                      com_intro   job_title  \\\n",
       "656  一家专注于深度学习与计算机视觉技术创新的人工智能公司   深度学习算法实习生   \n",
       "394                 互联网金融垂直搜索平台      数据算法助理   \n",
       "958             全球领先的涵道式无人机研发企业  无人机导航算法工程师   \n",
       "\n",
       "                                              com_logo   industry  \n",
       "656  https://sxsimg.xiaoyuanzhao.com/F5/33/F5E7B0CF...    计算机/互联网  \n",
       "394  https://sxsimg.xiaoyuanzhao.com/CC/12/CCDFD256...  互联网,金融/保险  \n",
       "958  https://sxsimg.xiaoyuanzhao.com/76/3F/76726149...      航天/航空  "
      ]
     },
     "execution_count": 39,
     "metadata": {},
     "output_type": "execute_result"
    }
   ],
   "source": [
    "data_clean.sample(3)"
   ]
  },
  {
   "cell_type": "code",
   "execution_count": 40,
   "metadata": {},
   "outputs": [
    {
     "name": "stdout",
     "output_type": "stream",
     "text": [
      "<class 'pandas.core.frame.DataFrame'>\n",
      "Int64Index: 878 entries, 0 to 977\n",
      "Data columns (total 20 columns):\n",
      "com_fullname     874 non-null object\n",
      "com_name         874 non-null object\n",
      "job_academic     878 non-null object\n",
      "job_links        878 non-null object\n",
      "tag              878 non-null object\n",
      "auth_capital     782 non-null float64\n",
      "day_per_week     878 non-null int64\n",
      "num_employee     872 non-null object\n",
      "time_span        878 non-null int64\n",
      "average_wage     878 non-null float64\n",
      "est_date         788 non-null datetime64[ns]\n",
      "job_deadline     878 non-null datetime64[ns]\n",
      "released_time    878 non-null object\n",
      "update_time      878 non-null datetime64[ns]\n",
      "city             874 non-null object\n",
      "com_class        794 non-null object\n",
      "com_intro        874 non-null object\n",
      "job_title        878 non-null object\n",
      "com_logo         874 non-null object\n",
      "industry         862 non-null object\n",
      "dtypes: datetime64[ns](3), float64(2), int64(2), object(13)\n",
      "memory usage: 144.0+ KB\n"
     ]
    }
   ],
   "source": [
    "data_clean.info()"
   ]
  },
  {
   "cell_type": "markdown",
   "metadata": {},
   "source": [
    "很好，数据是想要的样子  \n",
    "  \n",
    "#### 4.2 城市与职位数量\n",
    "- 其实由上面已经知道了，北上广深杭这五个城市毫无疑问地占据了前五的位置，其中北京遥遥领先，有471个职位，占53.89%；上海有164个，占18.76%；北上广深杭这五个城市占了所有的89.93%（将近九成），说明这个职位还是集中在一线城市\n",
    "- 另外值得注意的是，杭州排到了第三，在广州和深圳的前面，说明杭州在这方面的发展还挺好的\n",
    "- 原以为杭州的职位都被阿里系霸占了，结果抽取数据出来一看发现并没有，其中一家叫“非白三维”的公司占了10个职位，这到底是一家什么样的公司？可以去了解一下"
   ]
  },
  {
   "cell_type": "code",
   "execution_count": 41,
   "metadata": {
    "scrolled": true
   },
   "outputs": [
    {
     "data": {
      "text/plain": [
       "北京    471\n",
       "上海    164\n",
       "杭州     55\n",
       "深圳     52\n",
       "广州     44\n",
       "成都     21\n",
       "南京     14\n",
       "武汉      9\n",
       "西安      8\n",
       "重庆      4\n",
       "苏州      4\n",
       "沈阳      4\n",
       "珠海      4\n",
       "合肥      3\n",
       "无锡      2\n",
       "Name: city, dtype: int64"
      ]
     },
     "execution_count": 41,
     "metadata": {},
     "output_type": "execute_result"
    }
   ],
   "source": [
    "city = data_clean['city'].value_counts()\n",
    "city[:15]"
   ]
  },
  {
   "cell_type": "code",
   "execution_count": 42,
   "metadata": {
    "scrolled": false
   },
   "outputs": [
    {
     "data": {
      "text/html": [
       "<script>\n",
       "    require.config({\n",
       "        paths: {\n",
       "            'echarts': '/nbextensions/echarts/echarts.min'\n",
       "        }\n",
       "    });\n",
       "</script>\n",
       "    <div id=\"3ca4b1f16dfe48238229964e246c6b14\" style=\"width:800px;height:400px;\"></div>\n",
       "\n",
       "\n",
       "<script>\n",
       "    require(['echarts'], function(echarts) {\n",
       "        \n",
       "var myChart_3ca4b1f16dfe48238229964e246c6b14 = echarts.init(document.getElementById('3ca4b1f16dfe48238229964e246c6b14'), null, {renderer: 'canvas'});\n",
       "var option_3ca4b1f16dfe48238229964e246c6b14 = {\n",
       "    \"title\": [\n",
       "        {\n",
       "            \"text\": \"\\u57ce\\u5e02\\u4e0e\\u804c\\u4f4d\\u6570\\u91cf\",\n",
       "            \"subtext\": \"\",\n",
       "            \"left\": \"auto\",\n",
       "            \"top\": \"auto\",\n",
       "            \"textStyle\": {\n",
       "                \"color\": \"#000\",\n",
       "                \"fontSize\": 18\n",
       "            },\n",
       "            \"subtextStyle\": {\n",
       "                \"color\": \"#aaa\",\n",
       "                \"fontSize\": 12\n",
       "            }\n",
       "        }\n",
       "    ],\n",
       "    \"toolbox\": {\n",
       "        \"show\": true,\n",
       "        \"orient\": \"vertical\",\n",
       "        \"left\": \"95%\",\n",
       "        \"top\": \"center\",\n",
       "        \"feature\": {\n",
       "            \"saveAsImage\": {\n",
       "                \"show\": true,\n",
       "                \"title\": \"\\u4e0b\\u8f7d\\u56fe\\u7247\"\n",
       "            },\n",
       "            \"restore\": {\n",
       "                \"show\": true\n",
       "            },\n",
       "            \"dataView\": {\n",
       "                \"show\": true\n",
       "            }\n",
       "        }\n",
       "    },\n",
       "    \"series_id\": 1669673,\n",
       "    \"tooltip\": {\n",
       "        \"trigger\": \"item\",\n",
       "        \"triggerOn\": \"mousemove|click\",\n",
       "        \"axisPointer\": {\n",
       "            \"type\": \"line\"\n",
       "        },\n",
       "        \"formatter\": null,\n",
       "        \"textStyle\": {\n",
       "            \"color\": \"#fff\",\n",
       "            \"fontSize\": 14\n",
       "        },\n",
       "        \"backgroundColor\": \"rgba(50,50,50,0.7)\",\n",
       "        \"borderColor\": \"#333\",\n",
       "        \"borderWidth\": 0\n",
       "    },\n",
       "    \"series\": [\n",
       "        {\n",
       "            \"type\": \"bar\",\n",
       "            \"name\": \"\",\n",
       "            \"data\": [\n",
       "                471.0,\n",
       "                164.0,\n",
       "                55.0,\n",
       "                52.0,\n",
       "                44.0,\n",
       "                21.0,\n",
       "                14.0,\n",
       "                9.0,\n",
       "                8.0,\n",
       "                4.0,\n",
       "                4.0,\n",
       "                4.0,\n",
       "                4.0,\n",
       "                3.0,\n",
       "                2.0\n",
       "            ],\n",
       "            \"stack\": \"\",\n",
       "            \"barCategoryGap\": \"20%\",\n",
       "            \"label\": {\n",
       "                \"normal\": {\n",
       "                    \"show\": false,\n",
       "                    \"position\": \"top\",\n",
       "                    \"textStyle\": {\n",
       "                        \"color\": \"#000\",\n",
       "                        \"fontSize\": 12\n",
       "                    },\n",
       "                    \"formatter\": null\n",
       "                },\n",
       "                \"emphasis\": {\n",
       "                    \"show\": true,\n",
       "                    \"position\": null,\n",
       "                    \"textStyle\": {\n",
       "                        \"color\": \"#fff\",\n",
       "                        \"fontSize\": 12\n",
       "                    }\n",
       "                }\n",
       "            },\n",
       "            \"markPoint\": {\n",
       "                \"data\": [\n",
       "                    {\n",
       "                        \"type\": \"max\",\n",
       "                        \"name\": \"Maximum\",\n",
       "                        \"valueDim\": null,\n",
       "                        \"symbol\": \"pin\",\n",
       "                        \"symbolSize\": 50,\n",
       "                        \"label\": {\n",
       "                            \"normal\": {\n",
       "                                \"textStyle\": {\n",
       "                                    \"color\": \"#fff\"\n",
       "                                }\n",
       "                            }\n",
       "                        }\n",
       "                    }\n",
       "                ]\n",
       "            },\n",
       "            \"markLine\": {\n",
       "                \"data\": []\n",
       "            },\n",
       "            \"seriesId\": 1669673\n",
       "        }\n",
       "    ],\n",
       "    \"legend\": [\n",
       "        {\n",
       "            \"data\": [\n",
       "                \"\"\n",
       "            ],\n",
       "            \"selectedMode\": \"multiple\",\n",
       "            \"show\": true,\n",
       "            \"left\": \"center\",\n",
       "            \"top\": \"top\",\n",
       "            \"orient\": \"horizontal\",\n",
       "            \"textStyle\": {\n",
       "                \"fontSize\": 12,\n",
       "                \"color\": \"#333\"\n",
       "            }\n",
       "        }\n",
       "    ],\n",
       "    \"backgroundColor\": \"#fff\",\n",
       "    \"xAxis\": [\n",
       "        {\n",
       "            \"name\": \"\",\n",
       "            \"show\": true,\n",
       "            \"nameLocation\": \"middle\",\n",
       "            \"nameGap\": 25,\n",
       "            \"nameTextStyle\": {\n",
       "                \"fontSize\": 14\n",
       "            },\n",
       "            \"axisLabel\": {\n",
       "                \"interval\": \"auto\",\n",
       "                \"rotate\": 0,\n",
       "                \"margin\": 8,\n",
       "                \"textStyle\": {\n",
       "                    \"fontSize\": 12,\n",
       "                    \"color\": \"#000\"\n",
       "                }\n",
       "            },\n",
       "            \"axisTick\": {\n",
       "                \"alignWithLabel\": false\n",
       "            },\n",
       "            \"inverse\": false,\n",
       "            \"position\": null,\n",
       "            \"boundaryGap\": true,\n",
       "            \"min\": null,\n",
       "            \"max\": null,\n",
       "            \"data\": [\n",
       "                \"\\u5317\\u4eac\",\n",
       "                \"\\u4e0a\\u6d77\",\n",
       "                \"\\u676d\\u5dde\",\n",
       "                \"\\u6df1\\u5733\",\n",
       "                \"\\u5e7f\\u5dde\",\n",
       "                \"\\u6210\\u90fd\",\n",
       "                \"\\u5357\\u4eac\",\n",
       "                \"\\u6b66\\u6c49\",\n",
       "                \"\\u897f\\u5b89\",\n",
       "                \"\\u91cd\\u5e86\",\n",
       "                \"\\u82cf\\u5dde\",\n",
       "                \"\\u6c88\\u9633\",\n",
       "                \"\\u73e0\\u6d77\",\n",
       "                \"\\u5408\\u80a5\",\n",
       "                \"\\u65e0\\u9521\"\n",
       "            ],\n",
       "            \"type\": \"category\"\n",
       "        }\n",
       "    ],\n",
       "    \"yAxis\": [\n",
       "        {\n",
       "            \"name\": \"\",\n",
       "            \"show\": true,\n",
       "            \"nameLocation\": \"middle\",\n",
       "            \"nameGap\": 25,\n",
       "            \"nameTextStyle\": {\n",
       "                \"fontSize\": 14\n",
       "            },\n",
       "            \"axisLabel\": {\n",
       "                \"formatter\": \"{value} \",\n",
       "                \"rotate\": 0,\n",
       "                \"interval\": \"auto\",\n",
       "                \"margin\": 8,\n",
       "                \"textStyle\": {\n",
       "                    \"fontSize\": 12,\n",
       "                    \"color\": \"#000\"\n",
       "                }\n",
       "            },\n",
       "            \"axisTick\": {\n",
       "                \"alignWithLabel\": false\n",
       "            },\n",
       "            \"inverse\": false,\n",
       "            \"position\": null,\n",
       "            \"boundaryGap\": true,\n",
       "            \"min\": null,\n",
       "            \"max\": null,\n",
       "            \"splitLine\": {\n",
       "                \"show\": true\n",
       "            },\n",
       "            \"type\": \"value\"\n",
       "        }\n",
       "    ],\n",
       "    \"color\": [\n",
       "        \"#c23531\",\n",
       "        \"#2f4554\",\n",
       "        \"#61a0a8\",\n",
       "        \"#d48265\",\n",
       "        \"#749f83\",\n",
       "        \"#ca8622\",\n",
       "        \"#bda29a\",\n",
       "        \"#6e7074\",\n",
       "        \"#546570\",\n",
       "        \"#c4ccd3\",\n",
       "        \"#f05b72\",\n",
       "        \"#ef5b9c\",\n",
       "        \"#f47920\",\n",
       "        \"#905a3d\",\n",
       "        \"#fab27b\",\n",
       "        \"#2a5caa\",\n",
       "        \"#444693\",\n",
       "        \"#726930\",\n",
       "        \"#b2d235\",\n",
       "        \"#6d8346\",\n",
       "        \"#ac6767\",\n",
       "        \"#1d953f\",\n",
       "        \"#6950a1\",\n",
       "        \"#918597\",\n",
       "        \"#f6f5ec\"\n",
       "    ]\n",
       "};\n",
       "myChart_3ca4b1f16dfe48238229964e246c6b14.setOption(option_3ca4b1f16dfe48238229964e246c6b14);\n",
       "\n",
       "    });\n",
       "</script>\n"
      ],
      "text/plain": [
       "<pyecharts.charts.bar.Bar at 0x10adaad68>"
      ]
     },
     "execution_count": 42,
     "metadata": {},
     "output_type": "execute_result"
    }
   ],
   "source": [
    "bar = pyecharts.Bar('城市与职位数量')\n",
    "bar.add('', city[:15].index, city[:15].values, mark_point=[\"max\"])\n",
    "bar"
   ]
  },
  {
   "cell_type": "code",
   "execution_count": 43,
   "metadata": {},
   "outputs": [
    {
     "data": {
      "text/plain": [
       "北京    53.89%\n",
       "上海    18.76%\n",
       "杭州     6.29%\n",
       "深圳     5.95%\n",
       "广州     5.03%\n",
       "成都     2.40%\n",
       "南京     1.60%\n",
       "武汉     1.03%\n",
       "西安     0.92%\n",
       "重庆     0.46%\n",
       "苏州     0.46%\n",
       "沈阳     0.46%\n",
       "珠海     0.46%\n",
       "合肥     0.34%\n",
       "无锡     0.23%\n",
       "Name: city, dtype: object"
      ]
     },
     "execution_count": 43,
     "metadata": {},
     "output_type": "execute_result"
    }
   ],
   "source": [
    "city_pct = (city/city.sum()).map(lambda x: '{:,.2%}'.format(x))\n",
    "city_pct[:15]"
   ]
  },
  {
   "cell_type": "code",
   "execution_count": 44,
   "metadata": {},
   "outputs": [
    {
     "data": {
      "text/plain": [
       "0.89931350114416475"
      ]
     },
     "execution_count": 44,
     "metadata": {},
     "output_type": "execute_result"
    }
   ],
   "source": [
    "(city/city.sum())[:5].sum()"
   ]
  },
  {
   "cell_type": "code",
   "execution_count": 45,
   "metadata": {},
   "outputs": [
    {
     "data": {
      "text/plain": [
       "非白三维    10\n",
       "光珀       6\n",
       "虹软       5\n",
       "同花顺      4\n",
       "菜鸟网络     3\n",
       "Name: com_name, dtype: int64"
      ]
     },
     "execution_count": 45,
     "metadata": {},
     "output_type": "execute_result"
    }
   ],
   "source": [
    "data_clean.loc[data_clean['city'] == '杭州', 'com_name'].value_counts()[:5]"
   ]
  },
  {
   "cell_type": "markdown",
   "metadata": {},
   "source": [
    "- 再看看这15个个城市中，招聘职位数量前五的公司到底是哪些\n",
    "- 通过定义一个函数topN来实现"
   ]
  },
  {
   "cell_type": "code",
   "execution_count": 46,
   "metadata": {},
   "outputs": [],
   "source": [
    "def topN(dataframe, n=5):\n",
    "    counts = dataframe.value_counts()\n",
    "    return counts[:n]"
   ]
  },
  {
   "cell_type": "code",
   "execution_count": 47,
   "metadata": {},
   "outputs": [
    {
     "data": {
      "text/plain": [
       "city               \n",
       "上海    华院数据             10\n",
       "      爱奇艺               8\n",
       "      驭势科技              7\n",
       "      七牛云               4\n",
       "      纵目科技              4\n",
       "北京    百度               21\n",
       "      滴滴出行             19\n",
       "      今日头条             12\n",
       "      京东金融             10\n",
       "      作业帮               9\n",
       "南京    金智信息              2\n",
       "      南京地平线机器人技术        2\n",
       "      小黑鱼科技             2\n",
       "      矽岸信息              1\n",
       "      途牛旅游网             1\n",
       "合肥    乐职网               3\n",
       "广州    网易游戏              5\n",
       "      探迹                4\n",
       "      汇量科技              2\n",
       "      景驰科技              2\n",
       "      精点数据              2\n",
       "成都    天佑飞天              3\n",
       "      知道创宇              2\n",
       "      实验楼               1\n",
       "      川机院               1\n",
       "      博智信息              1\n",
       "无锡    英臻科技              1\n",
       "      乐骐科技              1\n",
       "杭州    非白三维             10\n",
       "      光珀                6\n",
       "      虹软                5\n",
       "      同花顺               4\n",
       "      菜鸟网络              3\n",
       "武汉    小弦科技              2\n",
       "      武汉安天              1\n",
       "      光庭信息              1\n",
       "      明日数据              1\n",
       "      乐行                1\n",
       "沈阳    东软集团              2\n",
       "      东软                2\n",
       "深圳    中科龙智             13\n",
       "      Webot             4\n",
       "      SenseTime商汤科技     3\n",
       "      美图                3\n",
       "      平安科技              3\n",
       "珠海    金山WPS             1\n",
       "      网钰科技              1\n",
       "      西山居               1\n",
       "      筑巢科技              1\n",
       "苏州    意能通               2\n",
       "      国科康成              1\n",
       "      华兴致远              1\n",
       "西安    中科微光              3\n",
       "      Wingspan          2\n",
       "      博彦科技              1\n",
       "      绿盟科技              1\n",
       "      西步数据              1\n",
       "重庆    赛迪技术              2\n",
       "      德勤全球交付中心          1\n",
       "      中国信息通信研究院西部分院     1\n",
       "Name: com_name, dtype: int64"
      ]
     },
     "execution_count": 47,
     "metadata": {},
     "output_type": "execute_result"
    }
   ],
   "source": [
    "data_clean.groupby('city').com_name.apply(topN).loc[list(city_pct[:15].index)]"
   ]
  },
  {
   "cell_type": "markdown",
   "metadata": {},
   "source": [
    "#### 4.3 薪资\n",
    "\n",
    "##### 4.3.1 平均薪资\n",
    "- 由于\"average_wage\"（薪资）一列的单位是每天，所以可以跟\"day_per_week\"（每周天数）结合起来算每月的工资（以一个月4周算）\n",
    "- 另起一列“salary”（月工资）保存数据\n",
    "- 发现平均实习工资是3645元人民币，应该还是OK的噶？"
   ]
  },
  {
   "cell_type": "code",
   "execution_count": 48,
   "metadata": {},
   "outputs": [
    {
     "data": {
      "text/plain": [
       "3644.9407744874716"
      ]
     },
     "execution_count": 48,
     "metadata": {},
     "output_type": "execute_result"
    }
   ],
   "source": [
    "data_clean['salary'] = data_clean['average_wage'] * data_clean['day_per_week'] * 4\n",
    "data_clean['salary'].mean()"
   ]
  },
  {
   "cell_type": "markdown",
   "metadata": {},
   "source": [
    "##### 4.3.2 薪资与城市\n",
    "- 以城市分组，看不同城市平均实习工资怎么样，发现薪资前五名中，北上广深杭只有杭州进入了前五，不过前五中其它四个城市的样本量都太小，数据不具有代表性\n",
    "- 看看职位需求前10的城市，平均实习薪资怎么样，发现杭州是最高的，突破了4000（还算可以的噶？），紧接着是北京3790(弱弱地问一句，够房租不？)，然后是深圳、上海、南京、广州"
   ]
  },
  {
   "cell_type": "code",
   "execution_count": 49,
   "metadata": {},
   "outputs": [
    {
     "data": {
      "text/plain": [
       "city\n",
       "晋江    9000.000000\n",
       "长沙    4500.000000\n",
       "东莞    4150.000000\n",
       "杭州    4139.345455\n",
       "福州    4000.000000\n",
       "北京    3789.927813\n",
       "深圳    3783.538462\n",
       "苏州    3775.000000\n",
       "厦门    3750.000000\n",
       "上海    3579.170732\n",
       "Name: salary, dtype: float64"
      ]
     },
     "execution_count": 49,
     "metadata": {},
     "output_type": "execute_result"
    }
   ],
   "source": [
    "salary_by_city = data_clean.groupby('city')['salary'].mean()\n",
    "salary_by_city.nlargest(10)"
   ]
  },
  {
   "cell_type": "code",
   "execution_count": 50,
   "metadata": {},
   "outputs": [
    {
     "data": {
      "text/plain": [
       "杭州    4139.345455\n",
       "北京    3789.927813\n",
       "深圳    3783.538462\n",
       "上海    3579.170732\n",
       "南京    3420.857143\n",
       "广州    3176.363636\n",
       "成都    2850.000000\n",
       "西安    2317.500000\n",
       "重庆    2222.500000\n",
       "武汉    1912.222222\n",
       "Name: salary, dtype: float64"
      ]
     },
     "execution_count": 50,
     "metadata": {},
     "output_type": "execute_result"
    }
   ],
   "source": [
    "top10_city = salary_by_city[city_pct.index[:10]].sort_values(ascending=False)\n",
    "top10_city"
   ]
  },
  {
   "cell_type": "code",
   "execution_count": 51,
   "metadata": {},
   "outputs": [
    {
     "data": {
      "text/html": [
       "<script>\n",
       "    require.config({\n",
       "        paths: {\n",
       "            'echarts': '/nbextensions/echarts/echarts.min'\n",
       "        }\n",
       "    });\n",
       "</script>\n",
       "    <div id=\"005d2fc2f70549da98fa0029ec6f487d\" style=\"width:800px;height:400px;\"></div>\n",
       "\n",
       "\n",
       "<script>\n",
       "    require(['echarts'], function(echarts) {\n",
       "        \n",
       "var myChart_005d2fc2f70549da98fa0029ec6f487d = echarts.init(document.getElementById('005d2fc2f70549da98fa0029ec6f487d'), null, {renderer: 'canvas'});\n",
       "var option_005d2fc2f70549da98fa0029ec6f487d = {\n",
       "    \"title\": [\n",
       "        {\n",
       "            \"text\": \"\\u5317\\u4e0a\\u5e7f\\u6df1\\u676d\\u7b49\\u57ce\\u5e02\\u5e73\\u5747\\u5b9e\\u4e60\\u5de5\\u8d44\",\n",
       "            \"subtext\": \"\",\n",
       "            \"left\": \"auto\",\n",
       "            \"top\": \"auto\",\n",
       "            \"textStyle\": {\n",
       "                \"color\": \"#000\",\n",
       "                \"fontSize\": 18\n",
       "            },\n",
       "            \"subtextStyle\": {\n",
       "                \"color\": \"#aaa\",\n",
       "                \"fontSize\": 12\n",
       "            }\n",
       "        }\n",
       "    ],\n",
       "    \"toolbox\": {\n",
       "        \"show\": true,\n",
       "        \"orient\": \"vertical\",\n",
       "        \"left\": \"95%\",\n",
       "        \"top\": \"center\",\n",
       "        \"feature\": {\n",
       "            \"saveAsImage\": {\n",
       "                \"show\": true,\n",
       "                \"title\": \"\\u4e0b\\u8f7d\\u56fe\\u7247\"\n",
       "            },\n",
       "            \"restore\": {\n",
       "                \"show\": true\n",
       "            },\n",
       "            \"dataView\": {\n",
       "                \"show\": true\n",
       "            }\n",
       "        }\n",
       "    },\n",
       "    \"series_id\": 6904187,\n",
       "    \"tooltip\": {\n",
       "        \"trigger\": \"item\",\n",
       "        \"triggerOn\": \"mousemove|click\",\n",
       "        \"axisPointer\": {\n",
       "            \"type\": \"line\"\n",
       "        },\n",
       "        \"formatter\": null,\n",
       "        \"textStyle\": {\n",
       "            \"color\": \"#fff\",\n",
       "            \"fontSize\": 14\n",
       "        },\n",
       "        \"backgroundColor\": \"rgba(50,50,50,0.7)\",\n",
       "        \"borderColor\": \"#333\",\n",
       "        \"borderWidth\": 0\n",
       "    },\n",
       "    \"series\": [\n",
       "        {\n",
       "            \"type\": \"bar\",\n",
       "            \"name\": \"\",\n",
       "            \"data\": [\n",
       "                4139.0,\n",
       "                3790.0,\n",
       "                3784.0,\n",
       "                3579.0,\n",
       "                3421.0,\n",
       "                3176.0,\n",
       "                2850.0,\n",
       "                2318.0,\n",
       "                2222.0,\n",
       "                1912.0\n",
       "            ],\n",
       "            \"stack\": \"\",\n",
       "            \"barCategoryGap\": \"20%\",\n",
       "            \"label\": {\n",
       "                \"normal\": {\n",
       "                    \"show\": false,\n",
       "                    \"position\": \"top\",\n",
       "                    \"textStyle\": {\n",
       "                        \"color\": \"#000\",\n",
       "                        \"fontSize\": 12\n",
       "                    },\n",
       "                    \"formatter\": null\n",
       "                },\n",
       "                \"emphasis\": {\n",
       "                    \"show\": true,\n",
       "                    \"position\": null,\n",
       "                    \"textStyle\": {\n",
       "                        \"color\": \"#fff\",\n",
       "                        \"fontSize\": 12\n",
       "                    }\n",
       "                }\n",
       "            },\n",
       "            \"markPoint\": {\n",
       "                \"data\": [\n",
       "                    {\n",
       "                        \"type\": \"max\",\n",
       "                        \"name\": \"Maximum\",\n",
       "                        \"valueDim\": null,\n",
       "                        \"symbol\": \"pin\",\n",
       "                        \"symbolSize\": 50,\n",
       "                        \"label\": {\n",
       "                            \"normal\": {\n",
       "                                \"textStyle\": {\n",
       "                                    \"color\": \"#fff\"\n",
       "                                }\n",
       "                            }\n",
       "                        }\n",
       "                    }\n",
       "                ]\n",
       "            },\n",
       "            \"markLine\": {\n",
       "                \"data\": []\n",
       "            },\n",
       "            \"seriesId\": 6904187\n",
       "        }\n",
       "    ],\n",
       "    \"legend\": [\n",
       "        {\n",
       "            \"data\": [\n",
       "                \"\"\n",
       "            ],\n",
       "            \"selectedMode\": \"multiple\",\n",
       "            \"show\": true,\n",
       "            \"left\": \"center\",\n",
       "            \"top\": \"top\",\n",
       "            \"orient\": \"horizontal\",\n",
       "            \"textStyle\": {\n",
       "                \"fontSize\": 12,\n",
       "                \"color\": \"#333\"\n",
       "            }\n",
       "        }\n",
       "    ],\n",
       "    \"backgroundColor\": \"#fff\",\n",
       "    \"xAxis\": [\n",
       "        {\n",
       "            \"name\": \"\",\n",
       "            \"show\": true,\n",
       "            \"nameLocation\": \"middle\",\n",
       "            \"nameGap\": 25,\n",
       "            \"nameTextStyle\": {\n",
       "                \"fontSize\": 14\n",
       "            },\n",
       "            \"axisLabel\": {\n",
       "                \"interval\": \"auto\",\n",
       "                \"rotate\": 0,\n",
       "                \"margin\": 8,\n",
       "                \"textStyle\": {\n",
       "                    \"fontSize\": 12,\n",
       "                    \"color\": \"#000\"\n",
       "                }\n",
       "            },\n",
       "            \"axisTick\": {\n",
       "                \"alignWithLabel\": false\n",
       "            },\n",
       "            \"inverse\": false,\n",
       "            \"position\": null,\n",
       "            \"boundaryGap\": true,\n",
       "            \"min\": null,\n",
       "            \"max\": null,\n",
       "            \"type\": \"value\"\n",
       "        }\n",
       "    ],\n",
       "    \"yAxis\": [\n",
       "        {\n",
       "            \"name\": \"\",\n",
       "            \"show\": true,\n",
       "            \"nameLocation\": \"middle\",\n",
       "            \"nameGap\": 25,\n",
       "            \"nameTextStyle\": {\n",
       "                \"fontSize\": 14\n",
       "            },\n",
       "            \"axisLabel\": {\n",
       "                \"formatter\": \"{value} \",\n",
       "                \"rotate\": 0,\n",
       "                \"interval\": \"auto\",\n",
       "                \"margin\": 8,\n",
       "                \"textStyle\": {\n",
       "                    \"fontSize\": 12,\n",
       "                    \"color\": \"#000\"\n",
       "                }\n",
       "            },\n",
       "            \"axisTick\": {\n",
       "                \"alignWithLabel\": false\n",
       "            },\n",
       "            \"inverse\": false,\n",
       "            \"position\": null,\n",
       "            \"boundaryGap\": true,\n",
       "            \"min\": null,\n",
       "            \"max\": null,\n",
       "            \"splitLine\": {\n",
       "                \"show\": true\n",
       "            },\n",
       "            \"data\": [\n",
       "                \"\\u676d\\u5dde\",\n",
       "                \"\\u5317\\u4eac\",\n",
       "                \"\\u6df1\\u5733\",\n",
       "                \"\\u4e0a\\u6d77\",\n",
       "                \"\\u5357\\u4eac\",\n",
       "                \"\\u5e7f\\u5dde\",\n",
       "                \"\\u6210\\u90fd\",\n",
       "                \"\\u897f\\u5b89\",\n",
       "                \"\\u91cd\\u5e86\",\n",
       "                \"\\u6b66\\u6c49\"\n",
       "            ],\n",
       "            \"type\": \"category\"\n",
       "        }\n",
       "    ],\n",
       "    \"color\": [\n",
       "        \"#c23531\",\n",
       "        \"#2f4554\",\n",
       "        \"#61a0a8\",\n",
       "        \"#d48265\",\n",
       "        \"#749f83\",\n",
       "        \"#ca8622\",\n",
       "        \"#bda29a\",\n",
       "        \"#6e7074\",\n",
       "        \"#546570\",\n",
       "        \"#c4ccd3\",\n",
       "        \"#f05b72\",\n",
       "        \"#ef5b9c\",\n",
       "        \"#f47920\",\n",
       "        \"#905a3d\",\n",
       "        \"#fab27b\",\n",
       "        \"#2a5caa\",\n",
       "        \"#444693\",\n",
       "        \"#726930\",\n",
       "        \"#b2d235\",\n",
       "        \"#6d8346\",\n",
       "        \"#ac6767\",\n",
       "        \"#1d953f\",\n",
       "        \"#6950a1\",\n",
       "        \"#918597\",\n",
       "        \"#f6f5ec\"\n",
       "    ]\n",
       "};\n",
       "myChart_005d2fc2f70549da98fa0029ec6f487d.setOption(option_005d2fc2f70549da98fa0029ec6f487d);\n",
       "\n",
       "    });\n",
       "</script>\n"
      ],
      "text/plain": [
       "<pyecharts.charts.bar.Bar at 0x10b4de438>"
      ]
     },
     "execution_count": 51,
     "metadata": {},
     "output_type": "execute_result"
    }
   ],
   "source": [
    "bar = pyecharts.Bar('北上广深杭等城市平均实习工资')\n",
    "bar.add('', top10_city.index, np.round(top10_city.values, 0), mark_point=[\"max\"], is_convert=True)\n",
    "bar"
   ]
  },
  {
   "cell_type": "markdown",
   "metadata": {},
   "source": [
    "- 再看看这些城市实习薪资的分布怎么样"
   ]
  },
  {
   "cell_type": "code",
   "execution_count": 52,
   "metadata": {},
   "outputs": [
    {
     "data": {
      "text/plain": [
       "<matplotlib.axes._subplots.AxesSubplot at 0x10b4d5da0>"
      ]
     },
     "execution_count": 52,
     "metadata": {},
     "output_type": "execute_result"
    },
    {
     "data": {
      "image/png": "[encoded data removed]",
      "text/plain": [
       "<matplotlib.figure.Figure at 0x10adaa390>"
      ]
     },
     "metadata": {},
     "output_type": "display_data"
    }
   ],
   "source": [
    "top10_city_box = data_clean.loc[data_clean['city'].isin(top10_city.index),:]\n",
    "sns.violinplot(x ='salary', y ='city', data = top10_city_box)"
   ]
  },
  {
   "cell_type": "markdown",
   "metadata": {},
   "source": [
    "#### 4.4 学历\n",
    "\n",
    "##### 4.4.1 数据挖掘、机器学习算法的学历要求\n",
    "- 先看看总体来说，需要什么学历的最多，发现需求的本科生数量是最多的，约占50%，紧接着是硕士，约占30%，博士是最少的"
   ]
  },
  {
   "cell_type": "code",
   "execution_count": 53,
   "metadata": {},
   "outputs": [
    {
     "data": {
      "text/plain": [
       "本科    435\n",
       "硕士    267\n",
       "不限    160\n",
       "大专     12\n",
       "博士      4\n",
       "Name: job_academic, dtype: int64"
      ]
     },
     "execution_count": 53,
     "metadata": {},
     "output_type": "execute_result"
    }
   ],
   "source": [
    "job_academic = data_clean['job_academic'].value_counts()\n",
    "job_academic"
   ]
  },
  {
   "cell_type": "code",
   "execution_count": 54,
   "metadata": {},
   "outputs": [
    {
     "data": {
      "text/html": [
       "<script>\n",
       "    require.config({\n",
       "        paths: {\n",
       "            'echarts': '/nbextensions/echarts/echarts.min'\n",
       "        }\n",
       "    });\n",
       "</script>\n",
       "    <div id=\"89e959372176419fbfb2b40d53ea4282\" style=\"width:800px;height:400px;\"></div>\n",
       "\n",
       "\n",
       "<script>\n",
       "    require(['echarts'], function(echarts) {\n",
       "        \n",
       "var myChart_89e959372176419fbfb2b40d53ea4282 = echarts.init(document.getElementById('89e959372176419fbfb2b40d53ea4282'), null, {renderer: 'canvas'});\n",
       "var option_89e959372176419fbfb2b40d53ea4282 = {\n",
       "    \"title\": [\n",
       "        {\n",
       "            \"text\": \"\\u5b66\\u5386\\u8981\\u6c42\",\n",
       "            \"subtext\": \"\",\n",
       "            \"left\": \"auto\",\n",
       "            \"top\": \"auto\",\n",
       "            \"textStyle\": {\n",
       "                \"color\": \"#000\",\n",
       "                \"fontSize\": 18\n",
       "            },\n",
       "            \"subtextStyle\": {\n",
       "                \"color\": \"#aaa\",\n",
       "                \"fontSize\": 12\n",
       "            }\n",
       "        }\n",
       "    ],\n",
       "    \"toolbox\": {\n",
       "        \"show\": true,\n",
       "        \"orient\": \"vertical\",\n",
       "        \"left\": \"95%\",\n",
       "        \"top\": \"center\",\n",
       "        \"feature\": {\n",
       "            \"saveAsImage\": {\n",
       "                \"show\": true,\n",
       "                \"title\": \"\\u4e0b\\u8f7d\\u56fe\\u7247\"\n",
       "            },\n",
       "            \"restore\": {\n",
       "                \"show\": true\n",
       "            },\n",
       "            \"dataView\": {\n",
       "                \"show\": true\n",
       "            }\n",
       "        }\n",
       "    },\n",
       "    \"series_id\": 4057822,\n",
       "    \"tooltip\": {\n",
       "        \"trigger\": \"item\",\n",
       "        \"triggerOn\": \"mousemove|click\",\n",
       "        \"axisPointer\": {\n",
       "            \"type\": \"line\"\n",
       "        },\n",
       "        \"formatter\": null,\n",
       "        \"textStyle\": {\n",
       "            \"color\": \"#fff\",\n",
       "            \"fontSize\": 14\n",
       "        },\n",
       "        \"backgroundColor\": \"rgba(50,50,50,0.7)\",\n",
       "        \"borderColor\": \"#333\",\n",
       "        \"borderWidth\": 0\n",
       "    },\n",
       "    \"series\": [\n",
       "        {\n",
       "            \"type\": \"pie\",\n",
       "            \"name\": \"\",\n",
       "            \"data\": [\n",
       "                {\n",
       "                    \"name\": \"\\u672c\\u79d1\",\n",
       "                    \"value\": 435.0\n",
       "                },\n",
       "                {\n",
       "                    \"name\": \"\\u7855\\u58eb\",\n",
       "                    \"value\": 267.0\n",
       "                },\n",
       "                {\n",
       "                    \"name\": \"\\u4e0d\\u9650\",\n",
       "                    \"value\": 160.0\n",
       "                },\n",
       "                {\n",
       "                    \"name\": \"\\u5927\\u4e13\",\n",
       "                    \"value\": 12.0\n",
       "                },\n",
       "                {\n",
       "                    \"name\": \"\\u535a\\u58eb\",\n",
       "                    \"value\": 4.0\n",
       "                }\n",
       "            ],\n",
       "            \"radius\": [\n",
       "                \"0%\",\n",
       "                \"75%\"\n",
       "            ],\n",
       "            \"center\": [\n",
       "                \"50%\",\n",
       "                \"50%\"\n",
       "            ],\n",
       "            \"roseType\": null,\n",
       "            \"label\": {\n",
       "                \"normal\": {\n",
       "                    \"show\": false,\n",
       "                    \"position\": \"outside\",\n",
       "                    \"textStyle\": {\n",
       "                        \"color\": \"#000\",\n",
       "                        \"fontSize\": 12\n",
       "                    },\n",
       "                    \"formatter\": \"{b}: {d}%\"\n",
       "                },\n",
       "                \"emphasis\": {\n",
       "                    \"show\": true,\n",
       "                    \"position\": null,\n",
       "                    \"textStyle\": {\n",
       "                        \"color\": \"#fff\",\n",
       "                        \"fontSize\": 12\n",
       "                    }\n",
       "                }\n",
       "            },\n",
       "            \"seriesId\": 4057822\n",
       "        }\n",
       "    ],\n",
       "    \"legend\": [\n",
       "        {\n",
       "            \"data\": [\n",
       "                \"\\u672c\\u79d1\",\n",
       "                \"\\u7855\\u58eb\",\n",
       "                \"\\u4e0d\\u9650\",\n",
       "                \"\\u5927\\u4e13\",\n",
       "                \"\\u535a\\u58eb\"\n",
       "            ],\n",
       "            \"selectedMode\": \"multiple\",\n",
       "            \"show\": true,\n",
       "            \"left\": \"center\",\n",
       "            \"top\": \"top\",\n",
       "            \"orient\": \"horizontal\",\n",
       "            \"textStyle\": {\n",
       "                \"fontSize\": 12,\n",
       "                \"color\": \"#333\"\n",
       "            }\n",
       "        }\n",
       "    ],\n",
       "    \"backgroundColor\": \"#fff\",\n",
       "    \"color\": [\n",
       "        \"#c23531\",\n",
       "        \"#2f4554\",\n",
       "        \"#61a0a8\",\n",
       "        \"#d48265\",\n",
       "        \"#749f83\",\n",
       "        \"#ca8622\",\n",
       "        \"#bda29a\",\n",
       "        \"#6e7074\",\n",
       "        \"#546570\",\n",
       "        \"#c4ccd3\",\n",
       "        \"#f05b72\",\n",
       "        \"#ef5b9c\",\n",
       "        \"#f47920\",\n",
       "        \"#905a3d\",\n",
       "        \"#fab27b\",\n",
       "        \"#2a5caa\",\n",
       "        \"#444693\",\n",
       "        \"#726930\",\n",
       "        \"#b2d235\",\n",
       "        \"#6d8346\",\n",
       "        \"#ac6767\",\n",
       "        \"#1d953f\",\n",
       "        \"#6950a1\",\n",
       "        \"#918597\",\n",
       "        \"#f6f5ec\"\n",
       "    ]\n",
       "};\n",
       "myChart_89e959372176419fbfb2b40d53ea4282.setOption(option_89e959372176419fbfb2b40d53ea4282);\n",
       "\n",
       "    });\n",
       "</script>\n"
      ],
      "text/plain": [
       "<pyecharts.charts.pie.Pie at 0x10b9d9ef0>"
      ]
     },
     "execution_count": 54,
     "metadata": {},
     "output_type": "execute_result"
    }
   ],
   "source": [
    "pie = pyecharts.Pie(\"学历要求\")\n",
    "pie.add('', job_academic.index, job_academic.values)\n",
    "pie"
   ]
  },
  {
   "cell_type": "markdown",
   "metadata": {},
   "source": [
    "##### 4.4.2 学历与薪资\n",
    "- 再看看实习薪资和学历有什么关系。发现基本上是正相关的关系，博士最高，接着是硕士、本科、大专\n",
    "- 但是，本科和硕士的实习工资差别不大\n",
    "- 总体看起来实习工资都偏低一些（不知道大家的实习工资是多少呢？），就算是博士也不太高"
   ]
  },
  {
   "cell_type": "code",
   "execution_count": 55,
   "metadata": {},
   "outputs": [
    {
     "data": {
      "text/plain": [
       "job_academic\n",
       "大专    2165.000000\n",
       "不限    3570.525000\n",
       "本科    3622.266667\n",
       "硕士    3786.546816\n",
       "博士    4075.000000\n",
       "Name: salary, dtype: float64"
      ]
     },
     "execution_count": 55,
     "metadata": {},
     "output_type": "execute_result"
    }
   ],
   "source": [
    "data_clean.groupby(['job_academic'])['salary'].mean().sort_values()"
   ]
  },
  {
   "cell_type": "code",
   "execution_count": 56,
   "metadata": {},
   "outputs": [
    {
     "data": {
      "text/plain": [
       "<matplotlib.axes._subplots.AxesSubplot at 0x10b4de978>"
      ]
     },
     "execution_count": 56,
     "metadata": {},
     "output_type": "execute_result"
    },
    {
     "data": {
      "image/png": "[encoded data removed]",
      "text/plain": [
       "<matplotlib.figure.Figure at 0x10ac4bfd0>"
      ]
     },
     "metadata": {},
     "output_type": "display_data"
    }
   ],
   "source": [
    "sns.boxplot(x=\"job_academic\", y=\"salary\", data=data_clean)"
   ]
  },
  {
   "cell_type": "markdown",
   "metadata": {},
   "source": [
    "#### 4.4 行业\n",
    "- 有一个好奇是，在现在的各行各业中，哪些行业对数据挖掘、机器学习算法的实习生需求更多，还有哪些行业现在也正在应用机器学习算法\n",
    "- “industry”字段是前面还未处理的，先看看数据长什么样子，发现同一条记录可能对应着一个或者多个行业，格式为xxx/xxx或者xxx,xxx，或者xxx，xxx等\n",
    "- 字段存在一定的缺失值\n",
    "- 考虑把字段按照/,，分割，行业名称每出现一次，做一次记录，比如“计算机/互联网,金融”，既属于“计算机”行业、又属于“互联网”行业，也属于“金融行业”，因此这3个行业的记录加1"
   ]
  },
  {
   "cell_type": "code",
   "execution_count": 57,
   "metadata": {},
   "outputs": [
    {
     "data": {
      "text/plain": [
       "443                 互联网\n",
       "826    快消,生物/医疗,计算机/互联网\n",
       "759             计算机/互联网\n",
       "420             计算机/互联网\n",
       "961             计算机/互联网\n",
       "Name: industry, dtype: object"
      ]
     },
     "execution_count": 57,
     "metadata": {},
     "output_type": "execute_result"
    }
   ],
   "source": [
    "data_clean['industry'].sample(5)"
   ]
  },
  {
   "cell_type": "code",
   "execution_count": 58,
   "metadata": {},
   "outputs": [],
   "source": [
    "industry = data_clean.industry.str.split('/|,|，', expand = True)"
   ]
  },
  {
   "cell_type": "markdown",
   "metadata": {},
   "source": [
    "这里需要解释一下：\n",
    "- 首先把上面split好的industry应用pandas的顶级方法value_counts，计算出每列不同行业的记录数\n",
    "- 然后把这几列的数据加起来，得到总数\n",
    "- 再取top15"
   ]
  },
  {
   "cell_type": "code",
   "execution_count": 59,
   "metadata": {},
   "outputs": [],
   "source": [
    "industry_top15 = industry.apply(pd.value_counts).sum(axis = 1).nlargest(15)"
   ]
  },
  {
   "cell_type": "code",
   "execution_count": 60,
   "metadata": {},
   "outputs": [
    {
     "data": {
      "text/html": [
       "<script>\n",
       "    require.config({\n",
       "        paths: {\n",
       "            'echarts': '/nbextensions/echarts/echarts.min'\n",
       "        }\n",
       "    });\n",
       "</script>\n",
       "    <div id=\"8abacaf8853948948a2a474f5d68f4b5\" style=\"width:800px;height:400px;\"></div>\n",
       "\n",
       "\n",
       "<script>\n",
       "    require(['echarts'], function(echarts) {\n",
       "        \n",
       "var myChart_8abacaf8853948948a2a474f5d68f4b5 = echarts.init(document.getElementById('8abacaf8853948948a2a474f5d68f4b5'), null, {renderer: 'canvas'});\n",
       "var option_8abacaf8853948948a2a474f5d68f4b5 = {\n",
       "    \"title\": [\n",
       "        {\n",
       "            \"text\": \"\\u884c\\u4e1a\\u4e0e\\u804c\\u4f4d\\u6570\\u91cf\",\n",
       "            \"subtext\": \"\",\n",
       "            \"left\": \"auto\",\n",
       "            \"top\": \"auto\",\n",
       "            \"textStyle\": {\n",
       "                \"color\": \"#000\",\n",
       "                \"fontSize\": 18\n",
       "            },\n",
       "            \"subtextStyle\": {\n",
       "                \"color\": \"#aaa\",\n",
       "                \"fontSize\": 12\n",
       "            }\n",
       "        }\n",
       "    ],\n",
       "    \"toolbox\": {\n",
       "        \"show\": true,\n",
       "        \"orient\": \"vertical\",\n",
       "        \"left\": \"95%\",\n",
       "        \"top\": \"center\",\n",
       "        \"feature\": {\n",
       "            \"saveAsImage\": {\n",
       "                \"show\": true,\n",
       "                \"title\": \"\\u4e0b\\u8f7d\\u56fe\\u7247\"\n",
       "            },\n",
       "            \"restore\": {\n",
       "                \"show\": true\n",
       "            },\n",
       "            \"dataView\": {\n",
       "                \"show\": true\n",
       "            }\n",
       "        }\n",
       "    },\n",
       "    \"series_id\": 811209,\n",
       "    \"tooltip\": {\n",
       "        \"trigger\": \"item\",\n",
       "        \"triggerOn\": \"mousemove|click\",\n",
       "        \"axisPointer\": {\n",
       "            \"type\": \"line\"\n",
       "        },\n",
       "        \"formatter\": null,\n",
       "        \"textStyle\": {\n",
       "            \"color\": \"#fff\",\n",
       "            \"fontSize\": 14\n",
       "        },\n",
       "        \"backgroundColor\": \"rgba(50,50,50,0.7)\",\n",
       "        \"borderColor\": \"#333\",\n",
       "        \"borderWidth\": 0\n",
       "    },\n",
       "    \"series\": [\n",
       "        {\n",
       "            \"type\": \"bar\",\n",
       "            \"name\": \"\",\n",
       "            \"data\": [\n",
       "                670.0,\n",
       "                503.0,\n",
       "                63.0,\n",
       "                43.0,\n",
       "                42.0,\n",
       "                23.0,\n",
       "                21.0,\n",
       "                19.0,\n",
       "                18.0,\n",
       "                11.0,\n",
       "                11.0,\n",
       "                11.0,\n",
       "                10.0,\n",
       "                8.0,\n",
       "                7.0\n",
       "            ],\n",
       "            \"stack\": \"\",\n",
       "            \"barCategoryGap\": \"20%\",\n",
       "            \"label\": {\n",
       "                \"normal\": {\n",
       "                    \"show\": false,\n",
       "                    \"position\": \"top\",\n",
       "                    \"textStyle\": {\n",
       "                        \"color\": \"#000\",\n",
       "                        \"fontSize\": 12\n",
       "                    },\n",
       "                    \"formatter\": null\n",
       "                },\n",
       "                \"emphasis\": {\n",
       "                    \"show\": true,\n",
       "                    \"position\": null,\n",
       "                    \"textStyle\": {\n",
       "                        \"color\": \"#fff\",\n",
       "                        \"fontSize\": 12\n",
       "                    }\n",
       "                }\n",
       "            },\n",
       "            \"markPoint\": {\n",
       "                \"data\": [\n",
       "                    {\n",
       "                        \"type\": \"max\",\n",
       "                        \"name\": \"Maximum\",\n",
       "                        \"valueDim\": null,\n",
       "                        \"symbol\": \"pin\",\n",
       "                        \"symbolSize\": 50,\n",
       "                        \"label\": {\n",
       "                            \"normal\": {\n",
       "                                \"textStyle\": {\n",
       "                                    \"color\": \"#fff\"\n",
       "                                }\n",
       "                            }\n",
       "                        }\n",
       "                    },\n",
       "                    {\n",
       "                        \"type\": \"min\",\n",
       "                        \"name\": \"Minimum\",\n",
       "                        \"valueDim\": null,\n",
       "                        \"symbol\": \"pin\",\n",
       "                        \"symbolSize\": 50,\n",
       "                        \"label\": {\n",
       "                            \"normal\": {\n",
       "                                \"textStyle\": {\n",
       "                                    \"color\": \"#fff\"\n",
       "                                }\n",
       "                            }\n",
       "                        }\n",
       "                    },\n",
       "                    {\n",
       "                        \"type\": \"average\",\n",
       "                        \"name\": \"mean-Value\",\n",
       "                        \"valueDim\": null,\n",
       "                        \"symbol\": \"pin\",\n",
       "                        \"symbolSize\": 50,\n",
       "                        \"label\": {\n",
       "                            \"normal\": {\n",
       "                                \"textStyle\": {\n",
       "                                    \"color\": \"#fff\"\n",
       "                                }\n",
       "                            }\n",
       "                        }\n",
       "                    }\n",
       "                ]\n",
       "            },\n",
       "            \"markLine\": {\n",
       "                \"data\": []\n",
       "            },\n",
       "            \"seriesId\": 811209\n",
       "        }\n",
       "    ],\n",
       "    \"legend\": [\n",
       "        {\n",
       "            \"data\": [\n",
       "                \"\"\n",
       "            ],\n",
       "            \"selectedMode\": \"multiple\",\n",
       "            \"show\": true,\n",
       "            \"left\": \"center\",\n",
       "            \"top\": \"top\",\n",
       "            \"orient\": \"horizontal\",\n",
       "            \"textStyle\": {\n",
       "                \"fontSize\": 12,\n",
       "                \"color\": \"#333\"\n",
       "            }\n",
       "        }\n",
       "    ],\n",
       "    \"backgroundColor\": \"#fff\",\n",
       "    \"xAxis\": [\n",
       "        {\n",
       "            \"name\": \"\",\n",
       "            \"show\": true,\n",
       "            \"nameLocation\": \"middle\",\n",
       "            \"nameGap\": 25,\n",
       "            \"nameTextStyle\": {\n",
       "                \"fontSize\": 14\n",
       "            },\n",
       "            \"axisLabel\": {\n",
       "                \"interval\": \"auto\",\n",
       "                \"rotate\": 45,\n",
       "                \"margin\": 8,\n",
       "                \"textStyle\": {\n",
       "                    \"fontSize\": 12,\n",
       "                    \"color\": \"#000\"\n",
       "                }\n",
       "            },\n",
       "            \"axisTick\": {\n",
       "                \"alignWithLabel\": false\n",
       "            },\n",
       "            \"inverse\": false,\n",
       "            \"position\": null,\n",
       "            \"boundaryGap\": true,\n",
       "            \"min\": null,\n",
       "            \"max\": null,\n",
       "            \"data\": [\n",
       "                \"\\u4e92\\u8054\\u7f51\",\n",
       "                \"\\u8ba1\\u7b97\\u673a\",\n",
       "                \"\\u91d1\\u878d\",\n",
       "                \"\\u901a\\u4fe1\",\n",
       "                \"\\u7535\\u5b50\",\n",
       "                \"\\u5176\\u4ed6\",\n",
       "                \"\\u4f01\\u4e1a\\u670d\\u52a1\",\n",
       "                \"\\u4fdd\\u9669\",\n",
       "                \"\\u4eba\\u5de5\\u667a\\u80fd\",\n",
       "                \"\\u673a\\u68b0\\u5236\\u9020\",\n",
       "                \"\\u79fb\\u52a8\\u4e92\\u8054\\u7f51\",\n",
       "                \"\\u8f6f\\u4ef6\",\n",
       "                \"\\u5236\\u9020\",\n",
       "                \"\\u533b\\u836f\",\n",
       "                \"\\u6559\\u80b2\\u57f9\\u8bad\"\n",
       "            ],\n",
       "            \"type\": \"category\"\n",
       "        }\n",
       "    ],\n",
       "    \"yAxis\": [\n",
       "        {\n",
       "            \"name\": \"\",\n",
       "            \"show\": true,\n",
       "            \"nameLocation\": \"middle\",\n",
       "            \"nameGap\": 25,\n",
       "            \"nameTextStyle\": {\n",
       "                \"fontSize\": 14\n",
       "            },\n",
       "            \"axisLabel\": {\n",
       "                \"formatter\": \"{value} \",\n",
       "                \"rotate\": 0,\n",
       "                \"interval\": \"auto\",\n",
       "                \"margin\": 8,\n",
       "                \"textStyle\": {\n",
       "                    \"fontSize\": 12,\n",
       "                    \"color\": \"#000\"\n",
       "                }\n",
       "            },\n",
       "            \"axisTick\": {\n",
       "                \"alignWithLabel\": false\n",
       "            },\n",
       "            \"inverse\": false,\n",
       "            \"position\": null,\n",
       "            \"boundaryGap\": true,\n",
       "            \"min\": null,\n",
       "            \"max\": null,\n",
       "            \"splitLine\": {\n",
       "                \"show\": true\n",
       "            },\n",
       "            \"type\": \"value\"\n",
       "        }\n",
       "    ],\n",
       "    \"color\": [\n",
       "        \"#c23531\",\n",
       "        \"#2f4554\",\n",
       "        \"#61a0a8\",\n",
       "        \"#d48265\",\n",
       "        \"#749f83\",\n",
       "        \"#ca8622\",\n",
       "        \"#bda29a\",\n",
       "        \"#6e7074\",\n",
       "        \"#546570\",\n",
       "        \"#c4ccd3\",\n",
       "        \"#f05b72\",\n",
       "        \"#ef5b9c\",\n",
       "        \"#f47920\",\n",
       "        \"#905a3d\",\n",
       "        \"#fab27b\",\n",
       "        \"#2a5caa\",\n",
       "        \"#444693\",\n",
       "        \"#726930\",\n",
       "        \"#b2d235\",\n",
       "        \"#6d8346\",\n",
       "        \"#ac6767\",\n",
       "        \"#1d953f\",\n",
       "        \"#6950a1\",\n",
       "        \"#918597\",\n",
       "        \"#f6f5ec\"\n",
       "    ]\n",
       "};\n",
       "myChart_8abacaf8853948948a2a474f5d68f4b5.setOption(option_8abacaf8853948948a2a474f5d68f4b5);\n",
       "\n",
       "    });\n",
       "</script>\n"
      ],
      "text/plain": [
       "<pyecharts.charts.bar.Bar at 0x10b417710>"
      ]
     },
     "execution_count": 60,
     "metadata": {},
     "output_type": "execute_result"
    }
   ],
   "source": [
    "bar = pyecharts.Bar('行业与职位数量')\n",
    "bar.add('', industry_top15.index, industry_top15.values, \n",
    "        mark_point=[\"max\",\"min\",\"average\"], xaxis_rotate=45)\n",
    "bar"
   ]
  },
  {
   "cell_type": "markdown",
   "metadata": {},
   "source": [
    "由上可知：\n",
    "- 互联网和计算机行业对于这方面的实习生需求是最多的（这是当然）\n",
    "- 金融、通信、电子行业对于这方面的实习生需求在前五名，说明数据挖掘、机器学习算法在这些行业也得到了比较好的应用\n",
    "- 另外，一些传统行业比如说机械、制造，也对这方面的实习生有些许需求，说明传统行业也开始关注和探索新的技术\n",
    "- 医药行业和教育培训行业也对此有些许需求；其实医药行业对机器学习算法的探索已经很多了，教育培训呢，估计是机器学习最近几年的蓬勃发展也带动了教育培训的发展吧"
   ]
  },
  {
   "cell_type": "markdown",
   "metadata": {},
   "source": [
    "#### 4.5 公司\n",
    "有很多跟公司相关的字段，很好奇哪些公司现在招的实习生职位数量最多、公司规模如何、这些公司都是什么时候成立的、是不是最近几年新成立的公司占的比例比较大、哪些公司给的实习薪资高一些、哪些公司比较看重学历\n",
    "  \n",
    "##### 4.5.1 公司与职位数量、平均实习月薪\n",
    "- 看看招聘职位数量前15名的公司都有哪些。发现了很多耳熟能详的大公司，比如说百度、滴滴、爱奇艺、头条、京东等\n",
    "- 还有一些比较陌生的，比如中科龙智、华院数据、非白三维、恒润科技、驭势科技、Rokid A-Lab等，这些公司都值得去了解一下\n",
    "- 这些公司中，今日头条的平均实习月薪最高，6400.5元，非白三维这家公司的实习月薪也不错，5150元，比某度好多了哈哈哈"
   ]
  },
  {
   "cell_type": "code",
   "execution_count": 61,
   "metadata": {},
   "outputs": [
    {
     "data": {
      "text/html": [
       "<div>\n",
       "<style scoped>\n",
       "    .dataframe tbody tr th:only-of-type {\n",
       "        vertical-align: middle;\n",
       "    }\n",
       "\n",
       "    .dataframe tbody tr th {\n",
       "        vertical-align: top;\n",
       "    }\n",
       "\n",
       "    .dataframe thead th {\n",
       "        text-align: right;\n",
       "    }\n",
       "</style>\n",
       "<table border=\"1\" class=\"dataframe\">\n",
       "  <thead>\n",
       "    <tr style=\"text-align: right;\">\n",
       "      <th></th>\n",
       "      <th>count</th>\n",
       "      <th>mean</th>\n",
       "    </tr>\n",
       "    <tr>\n",
       "      <th>com_name</th>\n",
       "      <th></th>\n",
       "      <th></th>\n",
       "    </tr>\n",
       "  </thead>\n",
       "  <tbody>\n",
       "    <tr>\n",
       "      <th>百度</th>\n",
       "      <td>21</td>\n",
       "      <td>3256.190476</td>\n",
       "    </tr>\n",
       "    <tr>\n",
       "      <th>滴滴出行</th>\n",
       "      <td>19</td>\n",
       "      <td>3614.736842</td>\n",
       "    </tr>\n",
       "    <tr>\n",
       "      <th>中科龙智</th>\n",
       "      <td>13</td>\n",
       "      <td>3000.000000</td>\n",
       "    </tr>\n",
       "    <tr>\n",
       "      <th>爱奇艺</th>\n",
       "      <td>12</td>\n",
       "      <td>3983.166667</td>\n",
       "    </tr>\n",
       "    <tr>\n",
       "      <th>今日头条</th>\n",
       "      <td>12</td>\n",
       "      <td>6400.500000</td>\n",
       "    </tr>\n",
       "    <tr>\n",
       "      <th>京东金融</th>\n",
       "      <td>10</td>\n",
       "      <td>4845.000000</td>\n",
       "    </tr>\n",
       "    <tr>\n",
       "      <th>非白三维</th>\n",
       "      <td>10</td>\n",
       "      <td>5150.000000</td>\n",
       "    </tr>\n",
       "    <tr>\n",
       "      <th>华院数据</th>\n",
       "      <td>10</td>\n",
       "      <td>3290.000000</td>\n",
       "    </tr>\n",
       "    <tr>\n",
       "      <th>恒润科技</th>\n",
       "      <td>9</td>\n",
       "      <td>1858.666667</td>\n",
       "    </tr>\n",
       "    <tr>\n",
       "      <th>作业帮</th>\n",
       "      <td>9</td>\n",
       "      <td>3444.444444</td>\n",
       "    </tr>\n",
       "    <tr>\n",
       "      <th>三星电子中国研究院</th>\n",
       "      <td>8</td>\n",
       "      <td>2800.000000</td>\n",
       "    </tr>\n",
       "    <tr>\n",
       "      <th>驭势科技</th>\n",
       "      <td>7</td>\n",
       "      <td>3582.857143</td>\n",
       "    </tr>\n",
       "    <tr>\n",
       "      <th>新浪微博</th>\n",
       "      <td>7</td>\n",
       "      <td>2626.000000</td>\n",
       "    </tr>\n",
       "    <tr>\n",
       "      <th>网易</th>\n",
       "      <td>6</td>\n",
       "      <td>3716.666667</td>\n",
       "    </tr>\n",
       "    <tr>\n",
       "      <th>Rokid A-Lab</th>\n",
       "      <td>6</td>\n",
       "      <td>4166.666667</td>\n",
       "    </tr>\n",
       "  </tbody>\n",
       "</table>\n",
       "</div>"
      ],
      "text/plain": [
       "             count         mean\n",
       "com_name                       \n",
       "百度              21  3256.190476\n",
       "滴滴出行            19  3614.736842\n",
       "中科龙智            13  3000.000000\n",
       "爱奇艺             12  3983.166667\n",
       "今日头条            12  6400.500000\n",
       "京东金融            10  4845.000000\n",
       "非白三维            10  5150.000000\n",
       "华院数据            10  3290.000000\n",
       "恒润科技             9  1858.666667\n",
       "作业帮              9  3444.444444\n",
       "三星电子中国研究院        8  2800.000000\n",
       "驭势科技             7  3582.857143\n",
       "新浪微博             7  2626.000000\n",
       "网易               6  3716.666667\n",
       "Rokid A-Lab      6  4166.666667"
      ]
     },
     "execution_count": 61,
     "metadata": {},
     "output_type": "execute_result"
    }
   ],
   "source": [
    "data_clean.groupby('com_name').salary.agg(['count', 'mean']).sort_values(by='count', ascending = False)[:15]\n"
   ]
  },
  {
   "cell_type": "markdown",
   "metadata": {},
   "source": [
    "##### 4.5.2 公司规模与职位数量\n",
    "- 数据挖掘、机器学习的实习生的需求，是否是以大型企业为主导呢？\n",
    "- 发现并不是的，这方面的需求是以小中大型企业向下递减的，也间接说明了这个行业迅速发展的同时催生了很多中小企业吧"
   ]
  },
  {
   "cell_type": "code",
   "execution_count": 62,
   "metadata": {},
   "outputs": [
    {
     "data": {
      "text/plain": [
       "小型企业    355\n",
       "中型企业    283\n",
       "大型企业    234\n",
       "Name: num_employee, dtype: int64"
      ]
     },
     "execution_count": 62,
     "metadata": {},
     "output_type": "execute_result"
    }
   ],
   "source": [
    "data_clean['num_employee'].value_counts()"
   ]
  },
  {
   "cell_type": "markdown",
   "metadata": {},
   "source": [
    "##### 4.5.3 公司规模与实习月薪\n",
    "- 我猜应该是大公司实习月薪高，小公司实习月薪低吧\n",
    "- 发现：我还是太天真了，结果刚好相反，小公司给的高，大公司给的低\n",
    "- 仔细想想好像也不无道理，大公司靠自己的名气吸引实习生，小公司没有名气，只能靠给更多的钱来吸引实习生了"
   ]
  },
  {
   "cell_type": "code",
   "execution_count": 63,
   "metadata": {},
   "outputs": [
    {
     "data": {
      "text/plain": [
       "num_employee\n",
       "中型企业    3633.823322\n",
       "大型企业    3497.136752\n",
       "小型企业    3748.304225\n",
       "Name: salary, dtype: float64"
      ]
     },
     "execution_count": 63,
     "metadata": {},
     "output_type": "execute_result"
    }
   ],
   "source": [
    "data_clean.groupby('num_employee')['salary'].mean()"
   ]
  },
  {
   "cell_type": "markdown",
   "metadata": {},
   "source": [
    "##### 4.5.4 公司实习期长度\n",
    "- 发现大多数公司要求的是实习3个月和6个月，基本上都是实习三个月起\n",
    "- 平均实习期长度是五个半月"
   ]
  },
  {
   "cell_type": "code",
   "execution_count": 64,
   "metadata": {},
   "outputs": [
    {
     "data": {
      "text/plain": [
       "3     289\n",
       "6     190\n",
       "4     113\n",
       "7      73\n",
       "5      67\n",
       "8      35\n",
       "10     34\n",
       "13     20\n",
       "12     17\n",
       "9      11\n",
       "11      8\n",
       "15      6\n",
       "16      4\n",
       "14      4\n",
       "2       3\n",
       "18      2\n",
       "17      1\n",
       "1       1\n",
       "Name: time_span, dtype: int64"
      ]
     },
     "execution_count": 64,
     "metadata": {},
     "output_type": "execute_result"
    }
   ],
   "source": [
    "data_clean['time_span'].value_counts()"
   ]
  },
  {
   "cell_type": "code",
   "execution_count": 65,
   "metadata": {},
   "outputs": [
    {
     "data": {
      "text/plain": [
       "5.5193621867881548"
      ]
     },
     "execution_count": 65,
     "metadata": {},
     "output_type": "execute_result"
    }
   ],
   "source": [
    "data_clean['time_span'].mean()"
   ]
  },
  {
   "cell_type": "markdown",
   "metadata": {},
   "source": [
    "##### 4.5.5 企业成立时间\n",
    "刚好可以用企业成立时间验证一下猜想，也就是最近这个行业是否得到了迅速的成长，迅速成长的过程中，是否又催生了一大批的中小企业\n",
    "- 首先，因为计算的是企业的数量而不是职位的数量，所以要先drop掉重复的企业\n",
    "- 接着，把之前清理好的成立时间数据，再清理一下，以年做单位\n",
    "- 然后，以年分组计算数量，便得到每年新成立的公司数量\n",
    "- 发现：从2013年开始，公司呈现爆发式增长"
   ]
  },
  {
   "cell_type": "code",
   "execution_count": 66,
   "metadata": {},
   "outputs": [],
   "source": [
    "est_date = data_clean.drop_duplicates(subset='com_name')"
   ]
  },
  {
   "cell_type": "code",
   "execution_count": 67,
   "metadata": {},
   "outputs": [],
   "source": [
    "import warnings\n",
    "warnings.filterwarnings('ignore')\n",
    "est_date['est_year'] = pd.DatetimeIndex(est_date['est_date']).year\n",
    "num_com_by_year = est_date.groupby('est_year')['com_name'].count()"
   ]
  },
  {
   "cell_type": "code",
   "execution_count": 68,
   "metadata": {},
   "outputs": [
    {
     "data": {
      "text/html": [
       "<script>\n",
       "    require.config({\n",
       "        paths: {\n",
       "            'echarts': '/nbextensions/echarts/echarts.min'\n",
       "        }\n",
       "    });\n",
       "</script>\n",
       "    <div id=\"c006f1cdb6214b03a7965263836a8f5c\" style=\"width:800px;height:400px;\"></div>\n",
       "\n",
       "\n",
       "<script>\n",
       "    require(['echarts'], function(echarts) {\n",
       "        \n",
       "var myChart_c006f1cdb6214b03a7965263836a8f5c = echarts.init(document.getElementById('c006f1cdb6214b03a7965263836a8f5c'), null, {renderer: 'canvas'});\n",
       "var option_c006f1cdb6214b03a7965263836a8f5c = {\n",
       "    \"title\": [\n",
       "        {\n",
       "            \"text\": \"\\u6bcf\\u5e74\\u65b0\\u6210\\u7acb\\u7684\\u516c\\u53f8\\u6570\\u91cf\\u53d8\\u5316\",\n",
       "            \"subtext\": \"\",\n",
       "            \"left\": \"auto\",\n",
       "            \"top\": \"auto\",\n",
       "            \"textStyle\": {\n",
       "                \"color\": \"#000\",\n",
       "                \"fontSize\": 18\n",
       "            },\n",
       "            \"subtextStyle\": {\n",
       "                \"color\": \"#aaa\",\n",
       "                \"fontSize\": 12\n",
       "            }\n",
       "        }\n",
       "    ],\n",
       "    \"toolbox\": {\n",
       "        \"show\": true,\n",
       "        \"orient\": \"vertical\",\n",
       "        \"left\": \"95%\",\n",
       "        \"top\": \"center\",\n",
       "        \"feature\": {\n",
       "            \"saveAsImage\": {\n",
       "                \"show\": true,\n",
       "                \"title\": \"\\u4e0b\\u8f7d\\u56fe\\u7247\"\n",
       "            },\n",
       "            \"restore\": {\n",
       "                \"show\": true\n",
       "            },\n",
       "            \"dataView\": {\n",
       "                \"show\": true\n",
       "            }\n",
       "        }\n",
       "    },\n",
       "    \"series_id\": 2192030,\n",
       "    \"tooltip\": {\n",
       "        \"trigger\": \"item\",\n",
       "        \"triggerOn\": \"mousemove|click\",\n",
       "        \"axisPointer\": {\n",
       "            \"type\": \"line\"\n",
       "        },\n",
       "        \"formatter\": null,\n",
       "        \"textStyle\": {\n",
       "            \"color\": \"#fff\",\n",
       "            \"fontSize\": 14\n",
       "        },\n",
       "        \"backgroundColor\": \"rgba(50,50,50,0.7)\",\n",
       "        \"borderColor\": \"#333\",\n",
       "        \"borderWidth\": 0\n",
       "    },\n",
       "    \"series\": [\n",
       "        {\n",
       "            \"type\": \"line\",\n",
       "            \"name\": \"\",\n",
       "            \"symbol\": \"emptyCircle\",\n",
       "            \"symbolSize\": 4,\n",
       "            \"smooth\": false,\n",
       "            \"step\": false,\n",
       "            \"stack\": \"\",\n",
       "            \"showSymbol\": true,\n",
       "            \"data\": [\n",
       "                1.0,\n",
       "                1.0,\n",
       "                1.0,\n",
       "                3.0,\n",
       "                1.0,\n",
       "                6.0,\n",
       "                5.0,\n",
       "                2.0,\n",
       "                2.0,\n",
       "                3.0,\n",
       "                4.0,\n",
       "                9.0,\n",
       "                6.0,\n",
       "                4.0,\n",
       "                7.0,\n",
       "                7.0,\n",
       "                7.0,\n",
       "                14.0,\n",
       "                14.0,\n",
       "                18.0,\n",
       "                19.0,\n",
       "                12.0,\n",
       "                20.0,\n",
       "                15.0,\n",
       "                29.0,\n",
       "                47.0,\n",
       "                57.0,\n",
       "                57.0,\n",
       "                42.0,\n",
       "                2.0\n",
       "            ],\n",
       "            \"label\": {\n",
       "                \"normal\": {\n",
       "                    \"show\": false,\n",
       "                    \"position\": \"top\",\n",
       "                    \"textStyle\": {\n",
       "                        \"color\": \"#000\",\n",
       "                        \"fontSize\": 12\n",
       "                    },\n",
       "                    \"formatter\": null\n",
       "                },\n",
       "                \"emphasis\": {\n",
       "                    \"show\": true,\n",
       "                    \"position\": null,\n",
       "                    \"textStyle\": {\n",
       "                        \"color\": \"#fff\",\n",
       "                        \"fontSize\": 12\n",
       "                    }\n",
       "                }\n",
       "            },\n",
       "            \"lineStyle\": {\n",
       "                \"normal\": {\n",
       "                    \"width\": 1,\n",
       "                    \"opacity\": 1,\n",
       "                    \"curveness\": 0,\n",
       "                    \"type\": \"solid\",\n",
       "                    \"color\": null\n",
       "                }\n",
       "            },\n",
       "            \"areaStyle\": {\n",
       "                \"opacity\": 0,\n",
       "                \"color\": null\n",
       "            },\n",
       "            \"markPoint\": {\n",
       "                \"data\": []\n",
       "            },\n",
       "            \"markLine\": {\n",
       "                \"data\": [\n",
       "                    {\n",
       "                        \"type\": \"max\",\n",
       "                        \"name\": \"Maximum\",\n",
       "                        \"valueDim\": null\n",
       "                    },\n",
       "                    {\n",
       "                        \"type\": \"average\",\n",
       "                        \"name\": \"mean-Value\",\n",
       "                        \"valueDim\": null\n",
       "                    }\n",
       "                ],\n",
       "                \"symbolSize\": 10\n",
       "            },\n",
       "            \"seriesId\": 2192030\n",
       "        }\n",
       "    ],\n",
       "    \"legend\": [\n",
       "        {\n",
       "            \"data\": [\n",
       "                \"\"\n",
       "            ],\n",
       "            \"selectedMode\": \"multiple\",\n",
       "            \"show\": true,\n",
       "            \"left\": \"center\",\n",
       "            \"top\": \"top\",\n",
       "            \"orient\": \"horizontal\",\n",
       "            \"textStyle\": {\n",
       "                \"fontSize\": 12,\n",
       "                \"color\": \"#333\"\n",
       "            }\n",
       "        }\n",
       "    ],\n",
       "    \"backgroundColor\": \"#fff\",\n",
       "    \"xAxis\": [\n",
       "        {\n",
       "            \"name\": \"\",\n",
       "            \"show\": true,\n",
       "            \"nameLocation\": \"middle\",\n",
       "            \"nameGap\": 25,\n",
       "            \"nameTextStyle\": {\n",
       "                \"fontSize\": 14\n",
       "            },\n",
       "            \"axisLabel\": {\n",
       "                \"interval\": \"auto\",\n",
       "                \"rotate\": 0,\n",
       "                \"margin\": 8,\n",
       "                \"textStyle\": {\n",
       "                    \"fontSize\": 12,\n",
       "                    \"color\": \"#000\"\n",
       "                }\n",
       "            },\n",
       "            \"axisTick\": {\n",
       "                \"alignWithLabel\": false\n",
       "            },\n",
       "            \"inverse\": false,\n",
       "            \"position\": null,\n",
       "            \"boundaryGap\": true,\n",
       "            \"min\": null,\n",
       "            \"max\": null,\n",
       "            \"data\": [\n",
       "                1980.0,\n",
       "                1990.0,\n",
       "                1991.0,\n",
       "                1992.0,\n",
       "                1993.0,\n",
       "                1994.0,\n",
       "                1995.0,\n",
       "                1996.0,\n",
       "                1997.0,\n",
       "                1998.0,\n",
       "                1999.0,\n",
       "                2000.0,\n",
       "                2001.0,\n",
       "                2002.0,\n",
       "                2003.0,\n",
       "                2004.0,\n",
       "                2005.0,\n",
       "                2006.0,\n",
       "                2007.0,\n",
       "                2008.0,\n",
       "                2009.0,\n",
       "                2010.0,\n",
       "                2011.0,\n",
       "                2012.0,\n",
       "                2013.0,\n",
       "                2014.0,\n",
       "                2015.0,\n",
       "                2016.0,\n",
       "                2017.0,\n",
       "                2018.0\n",
       "            ],\n",
       "            \"type\": \"category\"\n",
       "        }\n",
       "    ],\n",
       "    \"yAxis\": [\n",
       "        {\n",
       "            \"name\": \"\",\n",
       "            \"show\": true,\n",
       "            \"nameLocation\": \"middle\",\n",
       "            \"nameGap\": 25,\n",
       "            \"nameTextStyle\": {\n",
       "                \"fontSize\": 14\n",
       "            },\n",
       "            \"axisLabel\": {\n",
       "                \"formatter\": \"{value} \",\n",
       "                \"rotate\": 0,\n",
       "                \"interval\": \"auto\",\n",
       "                \"margin\": 8,\n",
       "                \"textStyle\": {\n",
       "                    \"fontSize\": 12,\n",
       "                    \"color\": \"#000\"\n",
       "                }\n",
       "            },\n",
       "            \"axisTick\": {\n",
       "                \"alignWithLabel\": false\n",
       "            },\n",
       "            \"inverse\": false,\n",
       "            \"position\": null,\n",
       "            \"boundaryGap\": true,\n",
       "            \"min\": null,\n",
       "            \"max\": null,\n",
       "            \"splitLine\": {\n",
       "                \"show\": true\n",
       "            },\n",
       "            \"type\": \"value\"\n",
       "        }\n",
       "    ],\n",
       "    \"color\": [\n",
       "        \"#c23531\",\n",
       "        \"#2f4554\",\n",
       "        \"#61a0a8\",\n",
       "        \"#d48265\",\n",
       "        \"#749f83\",\n",
       "        \"#ca8622\",\n",
       "        \"#bda29a\",\n",
       "        \"#6e7074\",\n",
       "        \"#546570\",\n",
       "        \"#c4ccd3\",\n",
       "        \"#f05b72\",\n",
       "        \"#ef5b9c\",\n",
       "        \"#f47920\",\n",
       "        \"#905a3d\",\n",
       "        \"#fab27b\",\n",
       "        \"#2a5caa\",\n",
       "        \"#444693\",\n",
       "        \"#726930\",\n",
       "        \"#b2d235\",\n",
       "        \"#6d8346\",\n",
       "        \"#ac6767\",\n",
       "        \"#1d953f\",\n",
       "        \"#6950a1\",\n",
       "        \"#918597\",\n",
       "        \"#f6f5ec\"\n",
       "    ]\n",
       "};\n",
       "myChart_c006f1cdb6214b03a7965263836a8f5c.setOption(option_c006f1cdb6214b03a7965263836a8f5c);\n",
       "\n",
       "    });\n",
       "</script>\n"
      ],
      "text/plain": [
       "<pyecharts.charts.line.Line at 0x10bb30c50>"
      ]
     },
     "execution_count": 68,
     "metadata": {},
     "output_type": "execute_result"
    }
   ],
   "source": [
    "line = pyecharts.Line(\"每年新成立的公司数量变化\")\n",
    "line.add(\"\", num_com_by_year.index, num_com_by_year.values, mark_line=[\"max\", \"average\"])\n",
    "line"
   ]
  },
  {
   "cell_type": "markdown",
   "metadata": {},
   "source": [
    "那新成立的企业中，企业规模怎么样？\n",
    "- 把数据以企业规模和成立年份分组计数\n",
    "- 发现2013年之后的爆发式增长中，主要以中小型企业为主（当然，这里也可以使用注册资本字段来做）"
   ]
  },
  {
   "cell_type": "code",
   "execution_count": 69,
   "metadata": {
    "scrolled": false
   },
   "outputs": [
    {
     "data": {
      "text/html": [
       "<script>\n",
       "    require.config({\n",
       "        paths: {\n",
       "            'echarts': '/nbextensions/echarts/echarts.min'\n",
       "        }\n",
       "    });\n",
       "</script>\n",
       "    <div id=\"778a9a8aebbe42b5b6db81b126d47ab4\" style=\"width:800px;height:400px;\"></div>\n",
       "\n",
       "\n",
       "<script>\n",
       "    require(['echarts'], function(echarts) {\n",
       "        \n",
       "var myChart_778a9a8aebbe42b5b6db81b126d47ab4 = echarts.init(document.getElementById('778a9a8aebbe42b5b6db81b126d47ab4'), null, {renderer: 'canvas'});\n",
       "var option_778a9a8aebbe42b5b6db81b126d47ab4 = {\n",
       "    \"title\": [\n",
       "        {\n",
       "            \"text\": \"\\u65b0\\u6210\\u7acb\\u7684\\u4f01\\u4e1a\\u4e0e\\u89c4\\u6a21\",\n",
       "            \"subtext\": \"\",\n",
       "            \"left\": \"auto\",\n",
       "            \"top\": \"auto\",\n",
       "            \"textStyle\": {\n",
       "                \"color\": \"#000\",\n",
       "                \"fontSize\": 18\n",
       "            },\n",
       "            \"subtextStyle\": {\n",
       "                \"color\": \"#aaa\",\n",
       "                \"fontSize\": 12\n",
       "            }\n",
       "        }\n",
       "    ],\n",
       "    \"toolbox\": {\n",
       "        \"show\": true,\n",
       "        \"orient\": \"vertical\",\n",
       "        \"left\": \"95%\",\n",
       "        \"top\": \"center\",\n",
       "        \"feature\": {\n",
       "            \"saveAsImage\": {\n",
       "                \"show\": true,\n",
       "                \"title\": \"\\u4e0b\\u8f7d\\u56fe\\u7247\"\n",
       "            },\n",
       "            \"restore\": {\n",
       "                \"show\": true\n",
       "            },\n",
       "            \"dataView\": {\n",
       "                \"show\": true\n",
       "            }\n",
       "        }\n",
       "    },\n",
       "    \"series_id\": 6244612,\n",
       "    \"tooltip\": {\n",
       "        \"trigger\": \"item\",\n",
       "        \"triggerOn\": \"mousemove|click\",\n",
       "        \"axisPointer\": {\n",
       "            \"type\": \"line\"\n",
       "        },\n",
       "        \"formatter\": null,\n",
       "        \"textStyle\": {\n",
       "            \"color\": \"#fff\",\n",
       "            \"fontSize\": 14\n",
       "        },\n",
       "        \"backgroundColor\": \"rgba(50,50,50,0.7)\",\n",
       "        \"borderColor\": \"#333\",\n",
       "        \"borderWidth\": 0\n",
       "    },\n",
       "    \"series\": [\n",
       "        {\n",
       "            \"type\": \"line\",\n",
       "            \"name\": \"\\u5c0f\\u578b\\u4f01\\u4e1a\",\n",
       "            \"symbol\": \"emptyCircle\",\n",
       "            \"symbolSize\": 4,\n",
       "            \"smooth\": false,\n",
       "            \"step\": false,\n",
       "            \"stack\": \"\",\n",
       "            \"showSymbol\": true,\n",
       "            \"data\": [\n",
       "                0.0,\n",
       "                0.0,\n",
       "                0.0,\n",
       "                0.0,\n",
       "                0.0,\n",
       "                0.0,\n",
       "                0.0,\n",
       "                1.0,\n",
       "                0.0,\n",
       "                0.0,\n",
       "                0.0,\n",
       "                0.0,\n",
       "                0.0,\n",
       "                1.0,\n",
       "                0.0,\n",
       "                3.0,\n",
       "                1.0,\n",
       "                1.0,\n",
       "                1.0,\n",
       "                4.0,\n",
       "                7.0,\n",
       "                2.0,\n",
       "                8.0,\n",
       "                4.0,\n",
       "                14.0,\n",
       "                26.0,\n",
       "                37.0,\n",
       "                40.0,\n",
       "                38.0,\n",
       "                2.0\n",
       "            ],\n",
       "            \"label\": {\n",
       "                \"normal\": {\n",
       "                    \"show\": true,\n",
       "                    \"position\": \"top\",\n",
       "                    \"textStyle\": {\n",
       "                        \"color\": \"#000\",\n",
       "                        \"fontSize\": 12\n",
       "                    },\n",
       "                    \"formatter\": null\n",
       "                },\n",
       "                \"emphasis\": {\n",
       "                    \"show\": true,\n",
       "                    \"position\": null,\n",
       "                    \"textStyle\": {\n",
       "                        \"color\": \"#fff\",\n",
       "                        \"fontSize\": 12\n",
       "                    }\n",
       "                }\n",
       "            },\n",
       "            \"lineStyle\": {\n",
       "                \"normal\": {\n",
       "                    \"width\": 1,\n",
       "                    \"opacity\": 1,\n",
       "                    \"curveness\": 0,\n",
       "                    \"type\": \"solid\",\n",
       "                    \"color\": null\n",
       "                }\n",
       "            },\n",
       "            \"areaStyle\": {\n",
       "                \"opacity\": 0,\n",
       "                \"color\": null\n",
       "            },\n",
       "            \"markPoint\": {\n",
       "                \"data\": []\n",
       "            },\n",
       "            \"markLine\": {\n",
       "                \"data\": []\n",
       "            },\n",
       "            \"seriesId\": 6244612\n",
       "        },\n",
       "        {\n",
       "            \"type\": \"line\",\n",
       "            \"name\": \"\\u4e2d\\u578b\\u4f01\\u4e1a\",\n",
       "            \"symbol\": \"emptyCircle\",\n",
       "            \"symbolSize\": 4,\n",
       "            \"smooth\": false,\n",
       "            \"step\": false,\n",
       "            \"stack\": \"\",\n",
       "            \"showSymbol\": true,\n",
       "            \"data\": [\n",
       "                0.0,\n",
       "                0.0,\n",
       "                0.0,\n",
       "                0.0,\n",
       "                1.0,\n",
       "                2.0,\n",
       "                3.0,\n",
       "                1.0,\n",
       "                0.0,\n",
       "                1.0,\n",
       "                1.0,\n",
       "                6.0,\n",
       "                4.0,\n",
       "                1.0,\n",
       "                6.0,\n",
       "                2.0,\n",
       "                2.0,\n",
       "                4.0,\n",
       "                8.0,\n",
       "                8.0,\n",
       "                12.0,\n",
       "                6.0,\n",
       "                11.0,\n",
       "                8.0,\n",
       "                9.0,\n",
       "                18.0,\n",
       "                19.0,\n",
       "                15.0,\n",
       "                3.0,\n",
       "                0.0\n",
       "            ],\n",
       "            \"label\": {\n",
       "                \"normal\": {\n",
       "                    \"show\": true,\n",
       "                    \"position\": \"top\",\n",
       "                    \"textStyle\": {\n",
       "                        \"color\": \"#000\",\n",
       "                        \"fontSize\": 12\n",
       "                    },\n",
       "                    \"formatter\": null\n",
       "                },\n",
       "                \"emphasis\": {\n",
       "                    \"show\": true,\n",
       "                    \"position\": null,\n",
       "                    \"textStyle\": {\n",
       "                        \"color\": \"#fff\",\n",
       "                        \"fontSize\": 12\n",
       "                    }\n",
       "                }\n",
       "            },\n",
       "            \"lineStyle\": {\n",
       "                \"normal\": {\n",
       "                    \"width\": 1,\n",
       "                    \"opacity\": 1,\n",
       "                    \"curveness\": 0,\n",
       "                    \"type\": \"solid\",\n",
       "                    \"color\": null\n",
       "                }\n",
       "            },\n",
       "            \"areaStyle\": {\n",
       "                \"opacity\": 0,\n",
       "                \"color\": null\n",
       "            },\n",
       "            \"markPoint\": {\n",
       "                \"data\": []\n",
       "            },\n",
       "            \"markLine\": {\n",
       "                \"data\": []\n",
       "            },\n",
       "            \"seriesId\": 6244612\n",
       "        },\n",
       "        {\n",
       "            \"type\": \"line\",\n",
       "            \"name\": \"\\u5927\\u578b\\u4f01\\u4e1a\",\n",
       "            \"symbol\": \"emptyCircle\",\n",
       "            \"symbolSize\": 4,\n",
       "            \"smooth\": false,\n",
       "            \"step\": false,\n",
       "            \"stack\": \"\",\n",
       "            \"showSymbol\": true,\n",
       "            \"data\": [\n",
       "                1.0,\n",
       "                1.0,\n",
       "                1.0,\n",
       "                3.0,\n",
       "                0.0,\n",
       "                4.0,\n",
       "                2.0,\n",
       "                0.0,\n",
       "                2.0,\n",
       "                1.0,\n",
       "                3.0,\n",
       "                3.0,\n",
       "                2.0,\n",
       "                2.0,\n",
       "                1.0,\n",
       "                2.0,\n",
       "                4.0,\n",
       "                9.0,\n",
       "                5.0,\n",
       "                6.0,\n",
       "                0.0,\n",
       "                4.0,\n",
       "                1.0,\n",
       "                3.0,\n",
       "                6.0,\n",
       "                2.0,\n",
       "                1.0,\n",
       "                2.0,\n",
       "                1.0,\n",
       "                0.0\n",
       "            ],\n",
       "            \"label\": {\n",
       "                \"normal\": {\n",
       "                    \"show\": true,\n",
       "                    \"position\": \"top\",\n",
       "                    \"textStyle\": {\n",
       "                        \"color\": \"#000\",\n",
       "                        \"fontSize\": 12\n",
       "                    },\n",
       "                    \"formatter\": null\n",
       "                },\n",
       "                \"emphasis\": {\n",
       "                    \"show\": true,\n",
       "                    \"position\": null,\n",
       "                    \"textStyle\": {\n",
       "                        \"color\": \"#fff\",\n",
       "                        \"fontSize\": 12\n",
       "                    }\n",
       "                }\n",
       "            },\n",
       "            \"lineStyle\": {\n",
       "                \"normal\": {\n",
       "                    \"width\": 1,\n",
       "                    \"opacity\": 1,\n",
       "                    \"curveness\": 0,\n",
       "                    \"type\": \"solid\",\n",
       "                    \"color\": null\n",
       "                }\n",
       "            },\n",
       "            \"areaStyle\": {\n",
       "                \"opacity\": 0,\n",
       "                \"color\": null\n",
       "            },\n",
       "            \"markPoint\": {\n",
       "                \"data\": []\n",
       "            },\n",
       "            \"markLine\": {\n",
       "                \"data\": []\n",
       "            },\n",
       "            \"seriesId\": 6244612\n",
       "        }\n",
       "    ],\n",
       "    \"legend\": [\n",
       "        {\n",
       "            \"data\": [\n",
       "                \"\\u5c0f\\u578b\\u4f01\\u4e1a\",\n",
       "                \"\\u4e2d\\u578b\\u4f01\\u4e1a\",\n",
       "                \"\\u5927\\u578b\\u4f01\\u4e1a\"\n",
       "            ],\n",
       "            \"selectedMode\": \"multiple\",\n",
       "            \"show\": true,\n",
       "            \"left\": \"center\",\n",
       "            \"top\": \"top\",\n",
       "            \"orient\": \"horizontal\",\n",
       "            \"textStyle\": {\n",
       "                \"fontSize\": 12,\n",
       "                \"color\": \"#333\"\n",
       "            }\n",
       "        }\n",
       "    ],\n",
       "    \"backgroundColor\": \"#fff\",\n",
       "    \"xAxis\": [\n",
       "        {\n",
       "            \"name\": \"\",\n",
       "            \"show\": true,\n",
       "            \"nameLocation\": \"middle\",\n",
       "            \"nameGap\": 25,\n",
       "            \"nameTextStyle\": {\n",
       "                \"fontSize\": 14\n",
       "            },\n",
       "            \"axisLabel\": {\n",
       "                \"interval\": \"auto\",\n",
       "                \"rotate\": 0,\n",
       "                \"margin\": 8,\n",
       "                \"textStyle\": {\n",
       "                    \"fontSize\": 12,\n",
       "                    \"color\": \"#000\"\n",
       "                }\n",
       "            },\n",
       "            \"axisTick\": {\n",
       "                \"alignWithLabel\": false\n",
       "            },\n",
       "            \"inverse\": false,\n",
       "            \"position\": null,\n",
       "            \"boundaryGap\": true,\n",
       "            \"min\": null,\n",
       "            \"max\": null,\n",
       "            \"data\": [\n",
       "                1980.0,\n",
       "                1990.0,\n",
       "                1991.0,\n",
       "                1992.0,\n",
       "                1993.0,\n",
       "                1994.0,\n",
       "                1995.0,\n",
       "                1996.0,\n",
       "                1997.0,\n",
       "                1998.0,\n",
       "                1999.0,\n",
       "                2000.0,\n",
       "                2001.0,\n",
       "                2002.0,\n",
       "                2003.0,\n",
       "                2004.0,\n",
       "                2005.0,\n",
       "                2006.0,\n",
       "                2007.0,\n",
       "                2008.0,\n",
       "                2009.0,\n",
       "                2010.0,\n",
       "                2011.0,\n",
       "                2012.0,\n",
       "                2013.0,\n",
       "                2014.0,\n",
       "                2015.0,\n",
       "                2016.0,\n",
       "                2017.0,\n",
       "                2018.0\n",
       "            ],\n",
       "            \"type\": \"category\"\n",
       "        }\n",
       "    ],\n",
       "    \"yAxis\": [\n",
       "        {\n",
       "            \"name\": \"\",\n",
       "            \"show\": true,\n",
       "            \"nameLocation\": \"middle\",\n",
       "            \"nameGap\": 25,\n",
       "            \"nameTextStyle\": {\n",
       "                \"fontSize\": 14\n",
       "            },\n",
       "            \"axisLabel\": {\n",
       "                \"formatter\": \"{value} \",\n",
       "                \"rotate\": 0,\n",
       "                \"interval\": \"auto\",\n",
       "                \"margin\": 8,\n",
       "                \"textStyle\": {\n",
       "                    \"fontSize\": 12,\n",
       "                    \"color\": \"#000\"\n",
       "                }\n",
       "            },\n",
       "            \"axisTick\": {\n",
       "                \"alignWithLabel\": false\n",
       "            },\n",
       "            \"inverse\": false,\n",
       "            \"position\": null,\n",
       "            \"boundaryGap\": true,\n",
       "            \"min\": null,\n",
       "            \"max\": null,\n",
       "            \"splitLine\": {\n",
       "                \"show\": true\n",
       "            },\n",
       "            \"type\": \"value\"\n",
       "        }\n",
       "    ],\n",
       "    \"color\": [\n",
       "        \"#c23531\",\n",
       "        \"#2f4554\",\n",
       "        \"#61a0a8\",\n",
       "        \"#d48265\",\n",
       "        \"#749f83\",\n",
       "        \"#ca8622\",\n",
       "        \"#bda29a\",\n",
       "        \"#6e7074\",\n",
       "        \"#546570\",\n",
       "        \"#c4ccd3\",\n",
       "        \"#f05b72\",\n",
       "        \"#ef5b9c\",\n",
       "        \"#f47920\",\n",
       "        \"#905a3d\",\n",
       "        \"#fab27b\",\n",
       "        \"#2a5caa\",\n",
       "        \"#444693\",\n",
       "        \"#726930\",\n",
       "        \"#b2d235\",\n",
       "        \"#6d8346\",\n",
       "        \"#ac6767\",\n",
       "        \"#1d953f\",\n",
       "        \"#6950a1\",\n",
       "        \"#918597\",\n",
       "        \"#f6f5ec\"\n",
       "    ]\n",
       "};\n",
       "myChart_778a9a8aebbe42b5b6db81b126d47ab4.setOption(option_778a9a8aebbe42b5b6db81b126d47ab4);\n",
       "\n",
       "    });\n",
       "</script>\n"
      ],
      "text/plain": [
       "<pyecharts.charts.line.Line at 0x10bc4dac8>"
      ]
     },
     "execution_count": 69,
     "metadata": {},
     "output_type": "execute_result"
    }
   ],
   "source": [
    "scale_VS_year = est_date.groupby(['num_employee', 'est_year'])['com_name'].count()\n",
    "scale_VS_year_s = scale_VS_year['小型企业'].reindex(num_com_by_year.index, fill_value=0)\n",
    "scale_VS_year_m = scale_VS_year['中型企业'].reindex(num_com_by_year.index, fill_value=0)\n",
    "scale_VS_year_l = scale_VS_year['大型企业'].reindex(num_com_by_year.index, fill_value=0)\n",
    "\n",
    "line = pyecharts.Line(\"新成立的企业与规模\")\n",
    "line.add(\"小型企业\", scale_VS_year_s.index, scale_VS_year_s.values, is_label_show=True)\n",
    "line.add(\"中型企业\", scale_VS_year_m.index, scale_VS_year_m.values, is_label_show=True)\n",
    "line.add(\"大型企业\", scale_VS_year_l.index, scale_VS_year_l.values, is_label_show=True)\n",
    "line"
   ]
  },
  {
   "cell_type": "markdown",
   "metadata": {},
   "source": [
    "### 5. 给小E挑选实习公司\n",
    "从以上的数据分析我们可以知道：\n",
    "1. 数据挖掘、机器学习算法岗位实习生的招聘，主要集中在“北上广深杭”这5个大城市\n",
    "2. 实习生的平均薪资为3644元人民币，“北上广深杭”这五个城市中，杭州的薪资最高，再者是北京、深圳\n",
    "3. 实习生学习以本科和硕士居多，并且这两者在实习薪资待遇上并没有太大的差别\n",
    "4. 互联网和计算机行业对于数据挖掘、机器学习算法岗位实习生需求是最多的，再者是金融、通信、电子行业\n",
    "5. 百度、滴滴、爱奇艺、头条、京东等大公司对该岗位的需求很多，另外还有中科龙智、华院数据、非白三维、恒润科技、驭势科技、Rokid A-Lab这些比较陌生的公司，对于该岗位的需求很多（应该是公司这方面的业务出于快速发展阶段）\n",
    "6. 大公司的实习薪资较少，小公司的薪资较多，不过差别不大\n",
    "7. 实习期以3个月或者6个月为主\n",
    "8. 从2013年开始，该行业的迅速发展催生了很多新的公司，主要以中小企业为主\n",
    "\n",
    "  \n",
    "这便是实习僧网站上，国内“机器学习算法实习生”岗位的一些基本情况。下面还有一个任务就是，给小E挑选一些符合小E的公司，供小E投简历。\n",
    "小E的相关信息：\n",
    "- 深圳人\n",
    "- 硕士在读\n",
    "- 只能实习3个月\n",
    "- 薪资高于深圳平均实习薪资\n",
    "- 要求是最新发布的职位\n",
    "\n",
    "  \n",
    "最后剩下......鹅厂......\n",
    "那就鹅厂吧，把鹅厂的这3条记录提取出来，完事儿！"
   ]
  },
  {
   "cell_type": "code",
   "execution_count": 70,
   "metadata": {},
   "outputs": [
    {
     "data": {
      "text/plain": [
       "array(['腾讯'], dtype=object)"
      ]
     },
     "execution_count": 70,
     "metadata": {},
     "output_type": "execute_result"
    }
   ],
   "source": [
    "E_data = data_clean.loc[(data_clean['city'] == '深圳') & \n",
    "               (data_clean['job_academic'] != '博士') & \n",
    "               (data_clean['time_span'].isin([1,2,3])) & \n",
    "               (data_clean['salary'] > 3784) & \n",
    "               (data_clean['released_time'] == 'newest'), :]\n",
    "E_data['com_name'].unique()"
   ]
  },
  {
   "cell_type": "code",
   "execution_count": 71,
   "metadata": {},
   "outputs": [
    {
     "data": {
      "text/html": [
       "<div>\n",
       "<style scoped>\n",
       "    .dataframe tbody tr th:only-of-type {\n",
       "        vertical-align: middle;\n",
       "    }\n",
       "\n",
       "    .dataframe tbody tr th {\n",
       "        vertical-align: top;\n",
       "    }\n",
       "\n",
       "    .dataframe thead th {\n",
       "        text-align: right;\n",
       "    }\n",
       "</style>\n",
       "<table border=\"1\" class=\"dataframe\">\n",
       "  <thead>\n",
       "    <tr style=\"text-align: right;\">\n",
       "      <th></th>\n",
       "      <th>job_title</th>\n",
       "      <th>job_links</th>\n",
       "    </tr>\n",
       "  </thead>\n",
       "  <tbody>\n",
       "    <tr>\n",
       "      <th>40</th>\n",
       "      <td>【2019届】数据挖掘机器学习算法工程师</td>\n",
       "      <td>https://www.shixiseng.com/intern/inn_btgg1xncafqz</td>\n",
       "    </tr>\n",
       "    <tr>\n",
       "      <th>41</th>\n",
       "      <td>【2019届】数据挖掘机器学习算法工程师</td>\n",
       "      <td>https://www.shixiseng.com/intern/inn_ybmp6yecb0ar</td>\n",
       "    </tr>\n",
       "    <tr>\n",
       "      <th>43</th>\n",
       "      <td>【2019届】大数据挖掘算法工程师</td>\n",
       "      <td>https://www.shixiseng.com/intern/inn_v29ipnaojqiw</td>\n",
       "    </tr>\n",
       "  </tbody>\n",
       "</table>\n",
       "</div>"
      ],
      "text/plain": [
       "               job_title                                          job_links\n",
       "40  【2019届】数据挖掘机器学习算法工程师  https://www.shixiseng.com/intern/inn_btgg1xncafqz\n",
       "41  【2019届】数据挖掘机器学习算法工程师  https://www.shixiseng.com/intern/inn_ybmp6yecb0ar\n",
       "43     【2019届】大数据挖掘算法工程师  https://www.shixiseng.com/intern/inn_v29ipnaojqiw"
      ]
     },
     "execution_count": 71,
     "metadata": {},
     "output_type": "execute_result"
    }
   ],
   "source": [
    "data.loc[E_data.index, ['job_title', 'job_links']]"
   ]
  },
  {
   "cell_type": "markdown",
   "metadata": {},
   "source": [
    "### 6. logo拼图\n",
    "最后，一个小乐趣：数据中有\"com_logo\"（公司logo）的链接地址，可以下载回来然后做个公司logo拼图\n",
    "1. 首先，需要先按照“com_logo”字段的链接，把所有的logo图片下载回来\n",
    "- 先选取“com_logo”和“com_name”两列数据，按照“com_name”列去重，去缺失值\n",
    "- 由于我们要使用“com_name”字段来命名爬取回来的logo，而其有些记录带有\"/\"符号，跟路径的符号会起冲突，所以先把这个符号用“-”替换掉\n",
    "- 接着使用requests库批量下载这些logo图片，保存到“logo”文件夹中(注意：保存logo的这个目标文件夹需要自己先新建)"
   ]
  },
  {
   "cell_type": "code",
   "execution_count": 72,
   "metadata": {},
   "outputs": [
    {
     "name": "stdout",
     "output_type": "stream",
     "text": [
      "Successfully downloaded  459 logos!\n"
     ]
    }
   ],
   "source": [
    "import os\n",
    "import requests\n",
    "from PIL import Image\n",
    "\n",
    "data_logo = data_clean[['com_logo', 'com_name']]\n",
    "data_logo.drop_duplicates(subset='com_name', inplace=True)\n",
    "data_logo.dropna(inplace=True)\n",
    "data_logo['com_name'] = data_logo['com_name'].str.replace('/', '-')\n",
    "com_logo = list(data_logo['com_logo'])\n",
    "com_name = list(data_logo['com_name'])\n",
    "\n",
    "path_list = []\n",
    "num_logo = 0\n",
    "os.mkdir('/Users/apple/Desktop/shixiseng/logo')\n",
    "for logo_index in range(len(com_logo)):\n",
    "    try:\n",
    "        response = requests.get(com_logo[logo_index])\n",
    "        suffix = com_logo[logo_index].split('.')[-1]\n",
    "        path = '/Users/apple/Desktop/shixiseng/logo/{}.{}'.format(com_name[logo_index], suffix)\n",
    "        path_list.append(path)\n",
    "        with open(path, 'wb') as f:\n",
    "            f.write(response.content)\n",
    "        num_logo += 1\n",
    "    except:\n",
    "        print('Failed downloading logo of', com_name[logo_index])\n",
    "print('Successfully downloaded ', str(num_logo), 'logos!')"
   ]
  },
  {
   "cell_type": "markdown",
   "metadata": {},
   "source": [
    "下面使用PIL做一个logo拼图，由于爬取回来有459个logo，为了美观，这里只选取了位于前面的400个logo，长宽各20个"
   ]
  },
  {
   "cell_type": "code",
   "execution_count": 73,
   "metadata": {},
   "outputs": [],
   "source": [
    "x = y = 0\n",
    "line = 20\n",
    "NewImage = Image.new('RGB', (128*line, 128*line))\n",
    "for item in path_list:\n",
    "    try:\n",
    "        img = Image.open(item)\n",
    "        img = img.resize((128, 128), Image.ANTIALIAS)\n",
    "        NewImage.paste(img, (x * 128, y * 128))\n",
    "        x += 1\n",
    "    except IOError:\n",
    "        print(\"第%d行,%d列文件读取失败！IOError:%s\" % (y, x, item))\n",
    "        x -= 1\n",
    "    if x == line:\n",
    "        x = 0\n",
    "        y += 1\n",
    "    if (x + line * y) == line * line:\n",
    "        break\n",
    "NewImage.save(\"/Users/apple/Desktop/shixiseng/logo.jpg\")"
   ]
  },
  {
   "cell_type": "markdown",
   "metadata": {},
   "source": [
    "完事儿，回家，吃饭！"
   ]
  },
  {
   "cell_type": "markdown",
   "metadata": {},
   "source": [
    "### 7. 总结一下\n",
    "- 首先，由于这篇文章的目的是给小E分析数据挖掘、机器学习算法实习生的需求情况，并且只爬了“实习僧”这一个网站，所以数据量比较小\n",
    "- 不过，数据的清洗和分析的套路还是差不多的\n",
    "- 由于前段时间了解到pyecharts这个画图神器，所以想在这里用一下。pyecharts画出来的图确实漂亮，不过总体感觉现在它跟pandas还是结合地不够好，用起来稍微有点繁琐，希望后面会越来越好越来越方便吧\n",
    "- 吃饭了，溜了溜了"
   ]
  }
 ],
 "metadata": {
  "kernelspec": {
   "display_name": "Python 3",
   "language": "python",
   "name": "python3"
  },
  "language_info": {
   "codemirror_mode": {
    "name": "ipython",
    "version": 3
   },
   "file_extension": ".py",
   "mimetype": "text/x-python",
   "name": "python",
   "nbconvert_exporter": "python",
   "pygments_lexer": "ipython3",
   "version": "3.6.3"
  }
 },
 "nbformat": 4,
 "nbformat_minor": 2
}
